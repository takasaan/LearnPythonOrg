{
 "cells": [
  {
   "cell_type": "code",
   "execution_count": 2,
   "metadata": {},
   "outputs": [
    {
     "name": "stdout",
     "output_type": "stream",
     "text": [
      "Hello World\n"
     ]
    }
   ],
   "source": [
    "#hello worldを出力してみましょう\n",
    "print(\"Hello World\")"
   ]
  },
  {
   "cell_type": "code",
   "execution_count": 1,
   "metadata": {},
   "outputs": [
    {
     "name": "stdout",
     "output_type": "stream",
     "text": [
      "nge\n"
     ]
    }
   ],
   "source": [
    "    #012345\n",
    "d = \"orange\"\n",
    "\n",
    "#これは何がプリントされますか？それはなぜですか？\n",
    "#d[3:6] は、インデックス3から始まり6の直前（インデックス5まで）の文字を取り出すという意味\n",
    "print(d[3:6])"
   ]
  },
  {
   "cell_type": "code",
   "execution_count": 2,
   "metadata": {},
   "outputs": [
    {
     "name": "stdout",
     "output_type": "stream",
     "text": [
      "nge\n"
     ]
    }
   ],
   "source": [
    "#これは何が出力されますか？それはなぜですか？\n",
    "#ngeがプリントされる。3から最後までの文字がプリントされる\n",
    "    #012345\n",
    "d = \"orange\"\n",
    "print(d[3:]) "
   ]
  },
  {
   "cell_type": "code",
   "execution_count": 10,
   "metadata": {},
   "outputs": [
    {
     "name": "stdout",
     "output_type": "stream",
     "text": [
      "range\n"
     ]
    }
   ],
   "source": [
    "d = \"orange\"\n",
    "print(d[1:])"
   ]
  },
  {
   "cell_type": "code",
   "execution_count": 6,
   "metadata": {},
   "outputs": [
    {
     "name": "stdout",
     "output_type": "stream",
     "text": [
      "201\n"
     ]
    }
   ],
   "source": [
    "#c += 200 は何ですか？\n",
    "a = 0\n",
    "b = 1\n",
    "c = a + b\n",
    "c += 200\n",
    "print(c)\n"
   ]
  },
  {
   "cell_type": "code",
   "execution_count": 7,
   "metadata": {},
   "outputs": [
    {
     "name": "stdout",
     "output_type": "stream",
     "text": [
      "-199\n"
     ]
    }
   ],
   "source": [
    "#これはどういう意味ですか？\n",
    "c -= 200\n",
    "c = c - 200\n",
    "\n",
    "a = 0\n",
    "b = 1\n",
    "c = a + b\n",
    "c = 1 - 200\n",
    "\n",
    "print(c)"
   ]
  },
  {
   "cell_type": "code",
   "execution_count": null,
   "metadata": {},
   "outputs": [],
   "source": [
    "#これはどういう意味ですか？\n",
    "c *= 200\n",
    "\n",
    "a = 0\n",
    "b = 1\n",
    "c = a + b\n",
    "c = 1 * 200\n",
    "\n",
    "print(c)"
   ]
  },
  {
   "cell_type": "code",
   "execution_count": null,
   "metadata": {},
   "outputs": [],
   "source": [
    "#これはどういう意味ですか？\n",
    "c /= 200\n",
    "\n",
    "a = 0\n",
    "b = 1\n",
    "c = a + b \n",
    "c = 1\n",
    "\n",
    "c = c / 200\n",
    "\n",
    "print(c)"
   ]
  },
  {
   "cell_type": "code",
   "execution_count": 27,
   "metadata": {},
   "outputs": [
    {
     "name": "stdout",
     "output_type": "stream",
     "text": [
      "1.0\n"
     ]
    }
   ],
   "source": [
    "#これはどういう意味ですか？\n",
    " //=  #整数を返す\n",
    "\n",
    "a = 3\n",
    "b = 2\n",
    "c = a / b\n",
    "c //= c\n",
    "print(c)\n",
    "\n"
   ]
  },
  {
   "cell_type": "code",
   "execution_count": 30,
   "metadata": {},
   "outputs": [
    {
     "name": "stdout",
     "output_type": "stream",
     "text": [
      "0.0\n"
     ]
    }
   ],
   "source": [
    "#これはどういう意味ですか？\n",
    "%= #余りを返す\n",
    " "
   ]
  },
  {
   "cell_type": "code",
   "execution_count": null,
   "metadata": {},
   "outputs": [],
   "source": [
    "#これはどういう意味ですか？\n",
    "**= "
   ]
  },
  {
   "cell_type": "code",
   "execution_count": null,
   "metadata": {},
   "outputs": [],
   "source": [
    "#これは何が出力されますか？それはなぜですか？\n",
    "# #//は結果を整数で返すという意味\n",
    "e = 3//2\n",
    "print(e)"
   ]
  },
  {
   "cell_type": "code",
   "execution_count": 14,
   "metadata": {},
   "outputs": [
    {
     "name": "stdout",
     "output_type": "stream",
     "text": [
      "['b', 'c']\n"
     ]
    }
   ],
   "source": [
    "    #  -4,-3,-2,-1\n",
    "    #   0, 1, 2, 3\n",
    "arr = [ 1, 2, 3, 4]\n",
    "#. -4,-3,-2,-1, 0, 1, 2, 3\n",
    "[ 1, 2, 3, 4, 1, 2, 3, 4]\n",
    "\n",
    "arr1 = ['a', 'b', 'c', 'd', 'e']\n",
    "\n",
    "#これは何が出力されますか？\n",
    "print(arr1[1:3])"
   ]
  },
  {
   "cell_type": "code",
   "execution_count": 32,
   "metadata": {},
   "outputs": [
    {
     "name": "stdout",
     "output_type": "stream",
     "text": [
      "no\n"
     ]
    }
   ],
   "source": [
    "f = 0\n",
    "g = 0.0\n",
    "\n",
    "if (f != g):\n",
    "    print('yes')\n",
    "else:\n",
    "    print('no')"
   ]
  },
  {
   "cell_type": "code",
   "execution_count": 2,
   "metadata": {},
   "outputs": [
    {
     "name": "stdout",
     "output_type": "stream",
     "text": [
      "123\n"
     ]
    },
    {
     "ename": "TypeError",
     "evalue": "'NoneType' object is not subscriptable",
     "output_type": "error",
     "traceback": [
      "\u001b[0;31m---------------------------------------------------------------------------\u001b[0m",
      "\u001b[0;31mTypeError\u001b[0m                                 Traceback (most recent call last)",
      "Cell \u001b[0;32mIn[2], line 6\u001b[0m\n\u001b[1;32m      3\u001b[0m a \u001b[38;5;241m=\u001b[39m \u001b[38;5;241m123\u001b[39m\n\u001b[1;32m      4\u001b[0m n \u001b[38;5;241m=\u001b[39m \u001b[38;5;241m3\u001b[39m\n\u001b[0;32m----> 6\u001b[0m \u001b[38;5;28;43mprint\u001b[39;49m\u001b[43m(\u001b[49m\u001b[38;5;28;43mint\u001b[39;49m\u001b[43m(\u001b[49m\u001b[43ma\u001b[49m\u001b[43m)\u001b[49m\u001b[43m)\u001b[49m\u001b[43m[\u001b[49m\u001b[43m:\u001b[49m\u001b[43m:\u001b[49m\u001b[38;5;241;43m-\u001b[39;49m\u001b[38;5;241;43m1\u001b[39;49m\u001b[43m]\u001b[49m\n",
      "\u001b[0;31mTypeError\u001b[0m: 'NoneType' object is not subscriptable"
     ]
    }
   ],
   "source": [
    "#以下を使って321を出力してください\n",
    "\n",
    "a = 123\n",
    "n = 3\n",
    "\n",
    "print(int(a))[::-1]\n"
   ]
  },
  {
   "cell_type": "code",
   "execution_count": 2,
   "metadata": {},
   "outputs": [
    {
     "name": "stdout",
     "output_type": "stream",
     "text": [
      "[[1, 1], [2, 2, 2], [1, 1], [2, 2, 2], [1, 1], [2, 2, 2], [1, 1], [2, 2, 2]]\n"
     ]
    }
   ],
   "source": [
    "x_list = [1]*2\n",
    "y_list = [2]*3\n",
    "big_list = ([x_list]+[y_list])*4\n",
    "print(big_list)"
   ]
  },
  {
   "cell_type": "code",
   "execution_count": 3,
   "metadata": {},
   "outputs": [
    {
     "name": "stdout",
     "output_type": "stream",
     "text": [
      "[1, 2, 3, 1, 2, 3, 1, 2, 3]\n"
     ]
    }
   ],
   "source": [
    "print([1,2,3] * 3)"
   ]
  },
  {
   "cell_type": "code",
   "execution_count": 5,
   "metadata": {},
   "outputs": [
    {
     "name": "stdout",
     "output_type": "stream",
     "text": [
      "[1, 2]\n"
     ]
    }
   ],
   "source": [
    "x_list = [1]\n",
    "y_list = [2]\n",
    "big_list = x_list + y_list\n",
    "print(big_list)"
   ]
  },
  {
   "cell_type": "code",
   "execution_count": 7,
   "metadata": {},
   "outputs": [
    {
     "name": "stdout",
     "output_type": "stream",
     "text": [
      "[[5, 5, 5, 5], ['a', 'a', 'a', 'a', 'a', 'a'], [5, 5, 5, 5], ['a', 'a', 'a', 'a', 'a', 'a']]\n"
     ]
    }
   ],
   "source": [
    "num = 5\n",
    "char = 'a'\n",
    "\n",
    "num_list = [num]*4\n",
    "char_list = [char]*6\n",
    "combo_list = ([num_list] + [char_list]) * 2\n",
    "\n",
    "print(combo_list)"
   ]
  },
  {
   "cell_type": "code",
   "execution_count": 8,
   "metadata": {},
   "outputs": [
    {
     "name": "stdout",
     "output_type": "stream",
     "text": [
      "[[1, 1], [2, 2, 2], [1, 1], [2, 2, 2], [1, 1], [2, 2, 2], [1, 1], [2, 2, 2]]\n"
     ]
    }
   ],
   "source": [
    "x_list = [1]*2\n",
    "y_list = [2]*3\n",
    "big_list = ([x_list]+[y_list])*4\n",
    "print(big_list)"
   ]
  }
 ],
 "metadata": {
  "kernelspec": {
   "display_name": "Python 3",
   "language": "python",
   "name": "python3"
  },
  "language_info": {
   "codemirror_mode": {
    "name": "ipython",
    "version": 3
   },
   "file_extension": ".py",
   "mimetype": "text/x-python",
   "name": "python",
   "nbconvert_exporter": "python",
   "pygments_lexer": "ipython3",
   "version": "3.12.0"
  }
 },
 "nbformat": 4,
 "nbformat_minor": 2
}
