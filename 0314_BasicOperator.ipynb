{
 "cells": [
  {
   "cell_type": "code",
   "execution_count": null,
   "metadata": {},
   "outputs": [],
   "source": [
    "#何が出力されるか？\n",
    "x_list = [1]*2\n",
    "y_list = [2]*3\n",
    "big_list = ([x_list]+[y_list])*4\n",
    "print(big_list)\n",
    "\n",
    "x_list = [1]*2　# [1,1]となる\n",
    "y_list = [2]*3 #[2,2,2]となる\n",
    "\n",
    "big_list = ([x_list]+[y_list])*4 \n",
    "#([x_list]+[y_list])*4  + なので、[[1,1][2,2,2]←このかたまりを4つ繰り返す]となる。\n",
    "#リスト内の数字(記号は)1つずつカンマで区切られる\n",
    "\n",
    "答え： [[1,1],[2,2,2],[1,1],[2,2,2],[1,1],[2,2,2],[1,1],[2,2,2]]"
   ]
  },
  {
   "cell_type": "code",
   "execution_count": null,
   "metadata": {},
   "outputs": [],
   "source": [
    "#何が出力されるか？\n",
    "num = 5\n",
    "char = 'a'\n",
    "\n",
    "num_list = [num]*4  #[5,5,5,5]となる\n",
    "char_list = [char]*6 #[a,a,a,a,a,a]となる\n",
    "\n",
    "combo_list = ([num_list] + [char_list])*2　　\n",
    "#[[5,5,5,5],[a,a,a,a,a,a]このかたまりを2つ繰り返す]となる\n",
    "print(combo_list)\n",
    "\n",
    "#答え：[[5,5,5,5],[a,a,a,a,a,a],[5,5,5,5],[a,a,a,a,a,a]]"
   ]
  },
  {
   "cell_type": "code",
   "execution_count": null,
   "metadata": {},
   "outputs": [],
   "source": [
    "#Using Operators with Lists\n",
    "#Lists can be joined with the addition operators:\n",
    "#Listは + と一緒に使うことができる\n",
    "\n",
    "even_numbers = [2,4,6,8]\n",
    "odd_numbers = [1,3,5,7]\n",
    "all_numbers = odd_numbers + even_numbers\n",
    "print(all_numbers)\n",
    "\n",
    "#[1,2,3,4,5,6,7,8]が出力されると思ったら違いました。\n",
    "\n",
    "#odd numbers + even numbers の順番にならなければいけないので、\n",
    "#正解は[1,3,5,7,2,4,6,8] が出力される。"
   ]
  },
  {
   "cell_type": "code",
   "execution_count": null,
   "metadata": {},
   "outputs": [],
   "source": [
    "#Just as in strings, Python supports forming new lists with a repeating sequence using the multiplication operator:\n",
    "#stringsの例と同じく、pythonはかける記号(*) と新しい list と反復するシーケンスを一緒に使うことができる\n",
    "\n",
    "print([1,2,3] * 3)\n",
    "\n",
    "#[3,6,9]が出力されると思ったら違いました。\n",
    "#[1,2,3] これをひとかたまりにして3回繰り返すので、\n",
    "#正解は[1,2,3,1,2,3,1,2,3]が出力される"
   ]
  },
  {
   "cell_type": "code",
   "execution_count": 2,
   "metadata": {},
   "outputs": [
    {
     "name": "stdout",
     "output_type": "stream",
     "text": [
      "[1, 1]\n"
     ]
    }
   ],
   "source": [
    "x_list = [1]*2 #[1,1]となる\n",
    "y_list = [2]*3 #[2,2,2]となる\n",
    "\n",
    "big_list = ([x_list]+[y_list])*4\n",
    "#[[1,1],[2,2,2]このかたまりを4つ繰り返す]となる。\n",
    "#よって、big_list = [[1,1],[2,2,2],[1,1],[2,2,2],[1,1],[2,2,2],[1,1],[2,2,2]]\n",
    "\n",
    "print(big_list[2])"
   ]
  }
 ],
 "metadata": {
  "kernelspec": {
   "display_name": "Python 3",
   "language": "python",
   "name": "python3"
  },
  "language_info": {
   "codemirror_mode": {
    "name": "ipython",
    "version": 3
   },
   "file_extension": ".py",
   "mimetype": "text/x-python",
   "name": "python",
   "nbconvert_exporter": "python",
   "pygments_lexer": "ipython3",
   "version": "3.12.0"
  }
 },
 "nbformat": 4,
 "nbformat_minor": 2
}
