{
 "cells": [
  {
   "cell_type": "code",
   "execution_count": null,
   "metadata": {},
   "outputs": [],
   "source": [
    "#String Formatting\n",
    "#Python uses C-style string formatting to create new, formatted strings. \n",
    "#The \"%\" operator is used to format a set of variables enclosed in a \"tuple\" (a fixed size list), \n",
    "#together with a format string, which contains normal text together with \"argument specifiers\", special symbols like \"%s\" and \"%d\".\n",
    "#Let's say you have a variable called \"name\" with your user name in it, and you would then like to print(out a greeting to that user.)\n",
    "\n",
    "#Pythonはc言語スタイルのフォーマットでstrings(文字列)をformatします。\"%\"はタプルの中に入っている変数と、\n",
    "#\"%s\"や\"%d\"のようなargument specifiers(引数指定子)を特別なシンボルを含む文字列たちを一緒にフォーマットするために使われます。\n",
    "#以下の場合、%sがargument specifiers(引数指定子)となり、name変数の値が文字列内の%sの位置に挿入される。\n",
    "#結果、name変数の内容が出力文字列に組み込まれ、\"Hello, John!\"という挨拶が生成される\n",
    "\n",
    "# This prints out \"Hello, John!\"\n",
    "name = \"John\"\n",
    "print(\"Hello, %s!\" % name)"
   ]
  },
  {
   "cell_type": "code",
   "execution_count": null,
   "metadata": {},
   "outputs": [],
   "source": [
    "#To use two or more argument specifiers, use a tuple (parentheses):\n",
    "#この場合はタプルの中にあるname, ageが変換されてprintされる\n",
    "\n",
    "# This prints out \"John is 23 years old.\"\n",
    "name = \"John\"\n",
    "age = 23\n",
    "print(\"%s is %d years old.\" % (name, age))"
   ]
  },
  {
   "cell_type": "code",
   "execution_count": null,
   "metadata": {},
   "outputs": [],
   "source": [
    "#Any object which is not a string can be formatted using the %s operator as well. \n",
    "#The string which returns from the \"repr\" method of that object is formatted as the string. \n",
    "#String(文字列)でないものはなんでも %s を使ってフォーマットできる。\n",
    "#「repr」メソッドから返されるString(文字列)は、String(文字列)としてフォーマットされる。\n",
    "\n",
    "# This prints out: A list: [1, 2, 3]\n",
    "mylist = [1,2,3]\n",
    "print(\"A list: %s\" % mylist)"
   ]
  },
  {
   "cell_type": "code",
   "execution_count": null,
   "metadata": {},
   "outputs": [],
   "source": [
    "#Here are some basic argument specifiers (引数指定子)you should know:\n",
    "\n",
    "Here are some basic argument specifiers (引数指定子)you should know:\n",
    "\n",
    "%s - String (or any object with a string representation, like numbers)文字列に使う\n",
    "\n",
    "%d - Integers 整数に使う\n",
    "\n",
    "%f - Floating point numbers　小数点に使う\n",
    "\n",
    "%.<number of digits>f \n",
    "- Floating point numbers with a fixed amount of digits to the right of the dot.\n",
    "#0.11 があったら、11の部分を出す記号(小数点のところだけ出したいときに使う)\n",
    "\n",
    "%x/%X - Integers in hex representation (lowercase/uppercase)\n",
    "#16進数表記の整数（小文字/大文字）に使う"
   ]
  },
  {
   "cell_type": "code",
   "execution_count": 1,
   "metadata": {},
   "outputs": [
    {
     "name": "stdout",
     "output_type": "stream",
     "text": [
      "Hello John Doe.Your current balance is $53.44.\n"
     ]
    }
   ],
   "source": [
    "#Exercise\n",
    "#You will need to write a format string which prints out the data using the following syntax: Hello John Doe. Your current balance is $53.44. \n",
    "#以下を書き換えて、Hello John Doe. Your current balance is $53.44.をprintする問題です\n",
    "\n",
    "data = (\"John\", \"Doe\", 53.44)\n",
    "format_string = \"Hello %s %s.Your current balance is $%s.\"\n",
    "print(format_string % data)"
   ]
  }
 ],
 "metadata": {
  "kernelspec": {
   "display_name": "Python 3",
   "language": "python",
   "name": "python3"
  },
  "language_info": {
   "codemirror_mode": {
    "name": "ipython",
    "version": 3
   },
   "file_extension": ".py",
   "mimetype": "text/x-python",
   "name": "python",
   "nbconvert_exporter": "python",
   "pygments_lexer": "ipython3",
   "version": "3.12.0"
  }
 },
 "nbformat": 4,
 "nbformat_minor": 2
}
