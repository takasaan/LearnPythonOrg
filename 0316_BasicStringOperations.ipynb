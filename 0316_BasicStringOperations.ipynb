{
 "cells": [
  {
   "cell_type": "code",
   "execution_count": null,
   "metadata": {},
   "outputs": [],
   "source": [
    "#String Operations\n",
    "#Strings are bits of text. They can be defined as anything between quotes #``Stringsは文字のかたまりです。このように``で囲むとdefineされます。\n",
    "astring = \"Hello world!\"\n",
    "astring2 = 'Hello world!'\n",
    "\n",
    "#As you can see, the first thing you learned was printing a simple sentence. \n",
    "#This sentence was stored by Python as a string.\n",
    "#However, instead of immediately printing strings out, we will explore the various things you can do to them. \n",
    "# You can also use single quotes to assign a string. However, you will face problems if the value to be assigned itself contains single quotes.\n",
    "# For example to assign the string in these bracket(single quotes are ' ') you need to use double quotes only like this\n",
    "#このように最初はシンプルな文章をprintすることを学びました\n",
    "#文章はpythonではstringとしてstore(格納？)されます\n",
    "#しかし！ただ単にstringをprintするだけれなくもっと色んなことができます\n",
    "#single quotes(``)をstringに使うことができますが、ifを使うときに問題が出るでしょう\n",
    "#例えば最初の(single quotes are ' ') に入っているstringを囲みたいときは、ダブルクオート(\"\")で囲まないと使わないといけません\n",
    "\n",
    "astring = \"Hello world!\"\n",
    "print(\"single quotes are ' '\")\n",
    "\n",
    "print(len(astring)) \n",
    "\n",
    "#astringの文字数 = 12 がprintされる\n",
    "#H e l l o   w o r  l  d  !  スペースも1文字と数える\n",
    "#1 2 3 4 5 6 7 8 9 10 11 12"
   ]
  },
  {
   "cell_type": "code",
   "execution_count": null,
   "metadata": {},
   "outputs": [],
   "source": [
    "#That prints out 4, because the location of the first occurrence of the letter \"o\" is 4 characters away from the first character. \n",
    "#Notice how there are actually two o's in the phrase - this method only recognizes the first.\n",
    "#But why didn't it print out 5? Isn't \"o\" the fifth character in the string? \n",
    "#To make things more simple, Python (and most other programming languages) start things at 0 instead of 1. So the index of \"o\" is 4.\n",
    "\n",
    "#この場合4が出力されます。最初のoは最初の文字Hから数えて4番目だからです。.indexを使うと、最初の文字からのみ距離を数えることができます。\n",
    "\n",
    "astring = \"Hello world!\" \n",
    "print(astring.index(\"o\")) \n",
    "\n",
    "#H e l l o   w o r l d !\n",
    "#0 1 2 3 4 5 6 7 8 9 10 11#"
   ]
  },
  {
   "cell_type": "code",
   "execution_count": null,
   "metadata": {},
   "outputs": [],
   "source": [
    "astring = \"Hello world!\"\n",
    "print(astring.count(\"l\"))\n",
    "\n",
    "#This counts the number of l's in the string. Therefore, it should print 3. \n",
    "# .countを使うとstringの中に入っている数を数えることができる。\n",
    "# この場合、 astring.count(\"l\")で　Hello world!の中に　l が何個あるか数えることができる"
   ]
  },
  {
   "cell_type": "code",
   "execution_count": null,
   "metadata": {},
   "outputs": [],
   "source": []
  }
 ],
 "metadata": {
  "language_info": {
   "name": "python"
  }
 },
 "nbformat": 4,
 "nbformat_minor": 2
}
