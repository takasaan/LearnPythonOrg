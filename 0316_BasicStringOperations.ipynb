{
 "cells": [
  {
   "cell_type": "code",
   "execution_count": null,
   "metadata": {},
   "outputs": [],
   "source": [
    "#String Operations\n",
    "#Strings are bits of text. They can be defined as anything between quotes #``Stringsは文字のかたまりです。このように``で囲むとdefineされます。\n",
    "astring = \"Hello world!\"\n",
    "astring2 = 'Hello world!'\n",
    "\n",
    "#As you can see, the first thing you learned was printing a simple sentence. \n",
    "#This sentence was stored by Python as a string.\n",
    "#However, instead of immediately printing strings out, we will explore the various things you can do to them. \n",
    "# You can also use single quotes to assign a string. However, you will face problems if the value to be assigned itself contains single quotes.\n",
    "# For example to assign the string in these bracket(single quotes are ' ') you need to use double quotes only like this\n",
    "#このように最初はシンプルな文章をprintすることを学びました\n",
    "#文章はpythonではstringとしてstore(格納？)されます\n",
    "#しかし！ただ単にstringをprintするだけれなくもっと色んなことができます\n",
    "#single quotes(``)をstringに使うことができますが、ifを使うときに問題が出るでしょう\n",
    "#例えば最初の(single quotes are ' ') に入っているstringを囲みたいときは、ダブルクオート(\"\")で囲まないと使わないといけません\n",
    "\n",
    "astring = \"Hello world!\"\n",
    "print(\"single quotes are ' '\")\n",
    "\n",
    "print(len(astring)) \n",
    "\n",
    "#astringの文字数 = 12 がprintされる\n",
    "#H e l l o   w o r  l  d  !  スペースも1文字と数える\n",
    "#1 2 3 4 5 6 7 8 9 10 11 12"
   ]
  },
  {
   "cell_type": "code",
   "execution_count": null,
   "metadata": {},
   "outputs": [],
   "source": [
    "#That prints out 4, because the location of the first occurrence of the letter \"o\" is 4 characters away from the first character. \n",
    "#Notice how there are actually two o's in the phrase - this method only recognizes the first.\n",
    "#But why didn't it print out 5? Isn't \"o\" the fifth character in the string? \n",
    "#To make things more simple, Python (and most other programming languages) start things at 0 instead of 1. So the index of \"o\" is 4.\n",
    "\n",
    "#この場合4が出力されます。最初のoは最初の文字Hから数えて4番目だからです。\n",
    "# .indexを使うと、最初の文字からのみ距離を数えることができます。\n",
    "\n",
    "astring = \"Hello world!\" \n",
    "print(astring.index(\"o\")) \n",
    "\n",
    "#H e l l o   w o r l d !\n",
    "#0 1 2 3 4 5 6 7 8 9 10 11#"
   ]
  },
  {
   "cell_type": "code",
   "execution_count": null,
   "metadata": {},
   "outputs": [],
   "source": [
    "#This counts the number of l's in the string. Therefore, it should print 3. \n",
    "#.countを使うとstringの中に入っている数を数えることができる。\n",
    "# この場合、 astring.count(\"l\")で　Hello world!の中に　l が何個あるか数えることができる\n",
    "\n",
    "astring = \"Hello world!\"\n",
    "print(astring.count(\"l\"))"
   ]
  },
  {
   "cell_type": "code",
   "execution_count": null,
   "metadata": {},
   "outputs": [],
   "source": [
    "#This prints a slice of the string, starting at index 3, and ending at index 6. \n",
    "# But why 6 and not 7? Again, most programming languages do this - it makes doing math inside those brackets easier.\n",
    "#If you just have one number in the brackets, it will give you the single character at that index. \n",
    "#If you leave out the first number but keep the colon, it will give you a slice from the start to the number you left in. \n",
    "#If you leave out the second number, it will give you a slice from the first number to the end.\n",
    "#You can even put negative numbers inside the brackets. \n",
    "#They are an easy way of starting at the end of the string instead of the beginning. \n",
    "# This way, -3 means \"3rd character from the end\".\n",
    "##これはstringをスライスする方法。\n",
    "#astring[3:7] index 3から6番目までのstring　lo w　が出力される。\n",
    "#でもなぜ[3:7]って書いてあるのに 3から7番目までではないのはなぜ？\n",
    "#大部分のプログラミング言語で行われている。このようにすると括弧内での数学的計算がしやすくなる。\n",
    "#brackets(括弧)に数字を一つだけ入れると、そのインデックスにある単一の文字を返します。\n",
    "#最初の数字を省略してコロンを残すと、残した数字までのスライスを開始から取得できる。\n",
    "#2番目の数字を省略すると、最初の数字から終わりまでのスライスを取得します。\n",
    "#brackets(括弧)に負の数を入れることもできます。これは文字列の終わりからではなく、始まりから数える簡単な方法です。\n",
    "#この方法で、-3は「最後から3番目の文字」を意味します。\n",
    "\n",
    "# H  e  l  l  o     w  o  r  l  d  !\n",
    "# 0  1  2  3  4  5  6  7  8  9  10 11\n",
    "#-12-11-10-9 -8 -7 -6 -5 -4 -3 -2 -1\n",
    "\n",
    "\n",
    "astring = \"Hello world!\"\n",
    "print(astring[3:7])\n",
    "#lo w　が出力される"
   ]
  },
  {
   "cell_type": "code",
   "execution_count": 1,
   "metadata": {},
   "outputs": [
    {
     "name": "stdout",
     "output_type": "stream",
     "text": [
      "l \n"
     ]
    }
   ],
   "source": [
    "#This prints the characters of string from 3 to 7 skipping one character. \n",
    "#This is extended slice syntax. The general form is [start:stop:step].\n",
    "#これはインデックス番号 3 to ６番目の文字を、1つずつ飛ばしてprintします。\n",
    "#これは拡張スライス構文で、一般的な形式は[start:stop:step]です。\n",
    "\n",
    "astring = \"Hello world!\"\n",
    "print(astring[3:7:2])\n",
    "\n",
    "#H  e  l  l  o     w  o  r  l  d  !\n",
    "#0  1  2  3  4  5  6  7  8  9  10 11\n",
    "#         ^     ^    "
   ]
  },
  {
   "cell_type": "code",
   "execution_count": null,
   "metadata": {},
   "outputs": [],
   "source": []
  },
  {
   "cell_type": "code",
   "execution_count": null,
   "metadata": {},
   "outputs": [],
   "source": [
    "#Note that both of them produce same output\n",
    "#There is no function like strrev in C to reverse a string. \n",
    "#これらは2つとも同じ結果が出ることに注意してください\n",
    "#C言語におけるstrrevのような文字列を逆にする関数はありません\n",
    "\n",
    "astring = \"Hello world!\"\n",
    "print(astring[3:7])\n",
    "print(astring[3:7:1])\n",
    "\n",
    "#H  e  l  l  o     w  o  r  l  d  !\n",
    "#0  1  2  3  4  5  6  7  8  9  10 11\n",
    "#         ^  ^  ^  ^  "
   ]
  },
  {
   "cell_type": "code",
   "execution_count": null,
   "metadata": {},
   "outputs": [],
   "source": [
    "#But with the above mentioned type of slice syntax you can easily reverse a string like this\n",
    "#このタイプのスライス構文を使用することで、以下のように簡単に文字列を逆にすることができます\n",
    "\n",
    "astring = \"Hello world!\"\n",
    "print(astring[::-1])"
   ]
  },
  {
   "cell_type": "code",
   "execution_count": null,
   "metadata": {},
   "outputs": [],
   "source": [
    "#.upper()で全部大文字に\n",
    "#.lower()で全部小文字にできます\n",
    "\n",
    "astring = \"Hello world!\"\n",
    "print(astring.upper())\n",
    "print(astring.lower())"
   ]
  },
  {
   "cell_type": "code",
   "execution_count": null,
   "metadata": {},
   "outputs": [],
   "source": [
    "#This is used to determine whether the string starts with something or ends with something, respectively.\n",
    "# The first one will print True, as the string starts with \"Hello\". \n",
    "# The second one will print False, as the string certainly does not end with \"asdfasdfasdf\".\n",
    "#これはそれぞれ文字列が特定の文字列で始まるか、または終わるかをチェックできる\n",
    "#文字列が \"Hello\" で始まるため、True を出力する\n",
    "# 二番目の例では、文字列が \"asdfasdfasdf\" で終わるわけではないため、False を出力する\n",
    "\n",
    "astring = \"Hello world!\"\n",
    "print(astring.startswith(\"Hello\"))\n",
    "print(astring.endswith(\"asdfasdfasdf\"))"
   ]
  },
  {
   "cell_type": "code",
   "execution_count": 6,
   "metadata": {},
   "outputs": [
    {
     "name": "stdout",
     "output_type": "stream",
     "text": [
      "['Hello', 'world!']\n"
     ]
    }
   ],
   "source": [
    "#This splits the string into a bunch of strings grouped together in a list. \n",
    "#Since this example splits at a space, the first item in the list will be \"Hello\", and the second will be \"world!\".\n",
    "#これは文字列をリスト内でまとめられた一連の文字列に分割します\n",
    "#この例ではスペースで分割しているため、リストの最初の項目は \"Hello\" になり、2番目の項目は \"world!\" になります\n",
    "\n",
    "astring = \"Hello world!\"\n",
    "afewwords = astring.split(\" \")\n",
    "\n",
    "print(afewwords)"
   ]
  },
  {
   "cell_type": "code",
   "execution_count": null,
   "metadata": {},
   "outputs": [],
   "source": [
    "#Exercise\n",
    "#Try to fix the code to print out the correct information by changing the string.\n",
    "\n",
    "s = \"Hey there! what should this string be?\"\n",
    "# Length should be 20 20文字以内である\n",
    "\n",
    "print(\"Length of s = %d\" % len(s)) \n",
    "\n",
    "# First occurrence of \"a\" should be at index 8 'a'の最初の出現位置はインデックス番号の8番目\n",
    "print(\"The first occurrence of the letter a = %d\" % s.index(\"a\"))\n",
    "\n",
    "# Number of a's should be 2　'a'は2回出現するようにする\n",
    "print(\"a occurs %d times\" % s.count(\"a\"))\n",
    "\n",
    "# Slicing the string into bits　ここからよく意味がわからないです\n",
    "print(\"The first five characters are '%s'\" % s[:5]) # Start to 5　\n",
    "print(\"The next five characters are '%s'\" % s[5:10]) # 5 to 10\n",
    "print(\"The thirteenth character is '%s'\" % s[12]) # Just number 12\n",
    "print(\"The characters with odd index are '%s'\" %s[1::2]) #(0-based indexing)\n",
    "print(\"The last five characters are '%s'\" % s[-5:]) # 5th-from-last to end\n",
    "\n",
    "# Convert everything to uppercase　全部大文字にします\n",
    "print(\"String in uppercase: %s\" % s.upper())\n",
    "\n",
    "# Convert everything to lowercase　全て小文字にします\n",
    "print(\"String in lowercase: %s\" % s.lower())\n",
    "\n",
    "# Check how a string starts　　s = Good!から始まる\n",
    "if s.startswith(\"Str\"):\n",
    "    print(\"String starts with 'Str'. Good!\")\n",
    "\n",
    "# Check how a string ends　　s = ome!で終わる\n",
    "if s.endswith(\"ome!\"):\n",
    "    print(\"String ends with 'ome!'. Good!\")\n",
    "\n",
    "# Split the string into three separate strings,\n",
    "# each containing only a word\n",
    "print(\"Split the words of the string: %s\" % s.split(\" \"))"
   ]
  }
 ],
 "metadata": {
  "kernelspec": {
   "display_name": "Python 3",
   "language": "python",
   "name": "python3"
  },
  "language_info": {
   "codemirror_mode": {
    "name": "ipython",
    "version": 3
   },
   "file_extension": ".py",
   "mimetype": "text/x-python",
   "name": "python",
   "nbconvert_exporter": "python",
   "pygments_lexer": "ipython3",
   "version": "3.12.0"
  }
 },
 "nbformat": 4,
 "nbformat_minor": 2
}
