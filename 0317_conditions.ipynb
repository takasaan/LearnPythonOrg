{
 "cells": [
  {
   "cell_type": "code",
   "execution_count": null,
   "metadata": {},
   "outputs": [],
   "source": [
    "#Python uses boolean logic to evaluate conditions. \n",
    "# The boolean values True and False are returned when an expression is compared or evaluated. For example:\n",
    "\n",
    "x = 2\n",
    "print(x == 2) # prints out True #x = 2と等しいのでTrueがprintされる\n",
    "print(x == 3) # prints out False　#x = 3と等しくないのでFalseがprintされる\n",
    "print(x < 3) # prints out True　　# x = 2 は 3 より小さいので、Trueがprintされる"
   ]
  },
  {
   "cell_type": "code",
   "execution_count": null,
   "metadata": {},
   "outputs": [],
   "source": [
    "#Notice that variable assignment is done using a single equals operator \"=\", \n",
    "# whereas comparison between two variables is done using the double equals operator \"==\". \n",
    "# The \"not equals\" operator is marked as \"!=\".\n",
    "\n",
    "#The \"and\" and \"or\" boolean operators allow building complex boolean expressions, for example:\n",
    "#変数の代入は、単一の等号演算子\"=\"を使って行われます。一方で、2つの変数の比較は、二重の等号演算子\"==\"を使用します。そして、\"not equals\"演算子は\"!=\"と表されます。\n",
    "#\"and\"と\"or\"のブール演算子を使うことで、複雑なブール式を構築することができます。例えば：\n",
    "\n",
    "#variable assignment(変数の代入)は\"=\"を使う\n",
    "name = \"John\"\n",
    "age = 23\n",
    "if name == \"John\" and age == 23: #comparison between two variableは\"==\"を使う\n",
    "    print(\"Your name is John, and you are also 23 years old.\")\n",
    "\n",
    "if name == \"John\" or name == \"Rick\":\n",
    "    print(\"Your name is either John or Rick.\")\n",
    "\n",
    "#名前が\"John\"でかつ年齢が23歳である場合に一つ目の条件が満たされる\n",
    "#名前が\"John\"または\"Rick\"のいずれかである場合に二つ目の条件が満たされる"
   ]
  },
  {
   "cell_type": "code",
   "execution_count": null,
   "metadata": {},
   "outputs": [],
   "source": [
    "#Python uses indentation to define code blocks, instead of brackets. \n",
    "# The standard Python indentation is 4 spaces, although tabs and any other space size will work, as long as it is consistent. \n",
    "# Notice that code blocks do not need any termination.\n",
    "\n",
    "#Here is an example for using Python's \"if\" statement using code blocks:\n",
    "\n",
    "#Pythonはindentation(インデント：4つのスペースのこと、tabキーを押す)を使ってcode blocks(ifからelseまでの部分をブロックと呼ぶ）を定義する。\n",
    "# このコードは if statementを使った例文です。\n",
    "\n",
    "statement = False\n",
    "another_statement = True\n",
    "if statement is True:\n",
    "    # do something\n",
    "    pass\n",
    "elif another_statement is True: # else if\n",
    "    # do something else\n",
    "    pass\n",
    "else:\n",
    "    # do another thing\n",
    "    pass"
   ]
  },
  {
   "cell_type": "code",
   "execution_count": null,
   "metadata": {},
   "outputs": [],
   "source": [
    "#例えば以下は、\n",
    "#x が 2　と等しいとき、x equals two!　をprintする、そうでなければ　x does not equal to two.　をprintする　となる。\n",
    "#この場合は、x equals two!が出力されれる\n",
    "\n",
    "x = 2\n",
    "if x == 2:\n",
    "    print(\"x equals two!\")\n",
    "else:\n",
    "    print(\"x does not equal to two.\")"
   ]
  },
  {
   "cell_type": "code",
   "execution_count": null,
   "metadata": {},
   "outputs": [],
   "source": [
    "#The 'is' operator\n",
    "#Unlike the double equals operator \"==\", the \"is\" operator does not match the values of the variables, but the instances themselves. For example:\n",
    "\n",
    "x = [1,2,3]\n",
    "y = [1,2,3]\n",
    "print(x == y) # Prints out True\n",
    "print(x is y) # Prints out False\n",
    "\n",
    "#'is' は、2つのvariablesがメモリ内の同じオブジェクト(この場合はx = [1,2,3]とy = [1,2,3])を参照しているかどうかをチェックする。\n",
    "# そのため、値を比較するのではなく、オブジェクト自体を比較することになる.\n",
    "\n",
    "#x と y は同じ値 [1, 2, 3] だが、\n",
    "#異なるメモリ上の別々のオブジェクトを参照する。\n",
    "#x と y がそれぞれ異なるリストオブジェクトであり、それぞれが異なるメモリ領域に割り当てられているため"
   ]
  },
  {
   "cell_type": "code",
   "execution_count": null,
   "metadata": {},
   "outputs": [],
   "source": [
    "#Exercise\n",
    "#Change the variables in the first section, so that each if statement resolves as True.\n",
    "\n",
    "# change this code\n",
    "number = 16 #numberは15より大きい\n",
    "second_number = 0\n",
    "first_array = [0,1,2]   #first_array and first_array[0]は1と等しい\n",
    "second_array = [1,2] #first_array + second_arrayの列の長さを足したら5になる\n",
    "\n",
    "if number > 15:\n",
    "    print(\"1\")\n",
    "\n",
    "if first_array:\n",
    "    print(\"2\")\n",
    "\n",
    "if len(second_array) == 2:\n",
    "    print(\"3\")\n",
    "\n",
    "if len(first_array) + len(second_array) == 5:\n",
    "    print(\"4\")\n",
    "\n",
    "if first_array and first_array[0] == 1:\n",
    "    print(\"5\")\n",
    "\n",
    "if not second_number: #　second_number が偽である場合に print(\"6\") を実行することを意味しています。Pythonでは、0 や空のリストなどの場合に偽と見なされます。\n",
    "    print(\"6\")"
   ]
  }
 ],
 "metadata": {
  "language_info": {
   "name": "python"
  }
 },
 "nbformat": 4,
 "nbformat_minor": 2
}
