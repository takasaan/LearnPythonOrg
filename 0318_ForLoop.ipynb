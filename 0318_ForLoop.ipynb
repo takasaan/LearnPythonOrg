{
 "cells": [
  {
   "cell_type": "code",
   "execution_count": null,
   "metadata": {},
   "outputs": [],
   "source": [
    "#For loops iterate over a given sequence. Here is an example:\n",
    "\n",
    "#◯  = [◻︎] \n",
    "#for 〇 in　△:  とすると、与えられたシーケンス(この場合は [◻︎]) を反復処理 = 2回繰り返せる)\n",
    "\n",
    "primes = [2, 3, 5, 7]\n",
    "for prime in primes:\n",
    "    print(prime)\n",
    "    \n",
    "#何が出力されますか？"
   ]
  },
  {
   "cell_type": "code",
   "execution_count": null,
   "metadata": {},
   "outputs": [],
   "source": [
    "# Prints out the numbers 0,1,2,3,4\n",
    "for x in range(5):#0から4まで(5って書いてるけど4はprintされない)\n",
    "    print(x)\n",
    "#何が出力されますか？"
   ]
  },
  {
   "cell_type": "code",
   "execution_count": null,
   "metadata": {},
   "outputs": [],
   "source": [
    "# Prints out 3,4,5　\n",
    "for x in range(3, 6): #3から5まで(6って書いてるけど4はprintされない)\n",
    "    print(x)\n",
    "#何が出力されますか？\n"
   ]
  },
  {
   "cell_type": "code",
   "execution_count": null,
   "metadata": {},
   "outputs": [],
   "source": [
    "# Prints out 3,5,7　(start,stop,step)のルール\n",
    "for x in range(3, 8, 2):#3から始まって2づつ増える、7で終わる\n",
    "    print(x)\n",
    "#何が出力されますか？"
   ]
  },
  {
   "cell_type": "code",
   "execution_count": null,
   "metadata": {},
   "outputs": [],
   "source": [
    "#While loops repeat as long as a certain boolean condition is met. \n",
    "# Prints out 0,1,2,3,4　while loop は、特定の真偽条件が満たされている間、繰り返し処理をする。例えば以下の場合、countが5未満の間、countを出力し、countに1を足していくという意味。\n",
    "#0から始まり、5未満の整数を順番に出力する\n",
    "\n",
    "count = 0\n",
    "while count < 5:\n",
    "    print(count)\n",
    "    count += 1  # This is the same as count = count + 1\n",
    "#何が出力されますか？"
   ]
  },
  {
   "cell_type": "code",
   "execution_count": null,
   "metadata": {},
   "outputs": [],
   "source": [
    "#break is used to exit a for loop or a while loop, whereas continue is used to skip the current block, \n",
    "# #and return to the \"for\" or \"while\" statement. \n",
    "\n",
    "#break文は、forループやwhileループから直ちに抜け出すために使われる\n",
    "#つまり、条件が満たされると、それ以降のループ処理をすぐに終了し、ループから抜け出せる\n",
    "\n",
    "#continue文は、現在のブロックの実行をスキップし、次の反復処理を行うために使われる\n",
    "#ループ内でcontinue文が実行されると、その時点でのループの実行を中止し、次の反復処理に移る\n",
    "\n",
    "# Prints out 0,1,2,3,4　count が５より小さい時、 count += 1を繰り返す\n",
    "count = 0\n",
    "while True:\n",
    "    print(count)\n",
    "    count += 1\n",
    "    if count >= 5:\n",
    "        break\n",
    "#何が出力されますか？"
   ]
  },
  {
   "cell_type": "code",
   "execution_count": null,
   "metadata": {},
   "outputs": [],
   "source": [
    "# Prints out only odd numbers - 1,3,5,7,9　x % 2 ==0 のとき、xを9まで(10と書いてるけど10はprintされない)出力する\n",
    "for x in range(10):\n",
    "    # Check if x is even\n",
    "    if x % 2 == 0:\n",
    "        continue\n",
    "    print(x)\n",
    "\n",
    "#何が出力されますか？"
   ]
  },
  {
   "cell_type": "code",
   "execution_count": null,
   "metadata": {},
   "outputs": [],
   "source": [
    "# Unlike languages like C,CPP.. we can use else for loops. \n",
    "# When the loop condition of \"for\" or \"while\" statement fails then code part in \"else\" is executed. \n",
    "# If a break statement is executed inside the for loop then the \"else\" part is skipped. \n",
    "# Note that the \"else\" part is executed even if there is a continue statement.\n",
    "\n",
    "# CやC++などの言語とは異なり、Pythonではforループやwhileループに対してelse文を使用できる\n",
    "# else文は、ループ条件が失敗した場合に実行される。ただし、forループ内でbreak文が実行された場合は、else部分がスキップされて、continue文があってもelse部分は実行される\n",
    "\n",
    "# Prints out 0,1,2,3,4 and then it prints \"count value reached 5\"\n",
    "# 0から始まり、5未満の整数を順番に出力し、その後 \"count value reached 5\" を出力する\n",
    "\n",
    "count=0\n",
    "while(count<5):\n",
    "    print(count)\n",
    "    count +=1\n",
    "else:\n",
    "    print(\"count value reached %d\" %(count))\n",
    "\n",
    "#何が出力されますか？"
   ]
  },
  {
   "cell_type": "code",
   "execution_count": null,
   "metadata": {},
   "outputs": [],
   "source": [
    "# Prints out 1,2,3,4\n",
    "#1から始まり、5で割り切れる数になるまでの整数を順番に出力する\n",
    "#5で割り切れる数に達した後にループが終了するのでため、else文は実行されない\n",
    "\n",
    "\n",
    "#変数 i に 1 から 9 までの数値が順番に代入される #i を 5 で割った余りが 0 に等しい場合 break ループから抜け出す\n",
    " #ここはbreak文でloop が終わってしまうので出力されない\n",
    "for i in range (1,10):\n",
    "    if(i % 5== 0):\n",
    "        break\n",
    "    print(i)\n",
    "else:\n",
    "    print(\"this is not printed because for loop is terminated because of break but not due to fail in condition\") \n",
    "\n",
    "#何が出力されますか？"
   ]
  },
  {
   "cell_type": "code",
   "execution_count": null,
   "metadata": {},
   "outputs": [],
   "source": [
    "#Exercise\n",
    "# Loop through and print out all even numbers from the numbers list in the same order they are received. \n",
    "# Don't print any numbers that come after 237 in the sequence. \n",
    "\n",
    "#for loop文を使って numbers list[]の中にあるすべてのeven numbers(２で割り切れる数)を出力してください。237が出てきたらprintしないでください\n",
    "\n",
    "numbers = [\n",
    "    951, 402, 984, 651, 360, 69, 408, 319, 601, 485, 980, 507, 725, 547, 544,\n",
    "    615, 83, 165, 141, 501, 263, 617, 865, 575, 219, 390, 984, 592, 236, 105, 942, 941,\n",
    "    386, 462, 47, 418, 907, 344, 236, 375, 823, 566, 597, 978, 328, 615, 953, 345,\n",
    "    399, 162, 758, 219, 918, 237, 412, 566, 826, 248, 866, 950, 626, 949, 687, 217,\n",
    "    815, 67, 104, 58, 512, 24, 892, 894, 767, 553, 81, 379, 843, 831, 445, 742, 717,\n",
    "    958, 609, 842, 451, 688, 753, 854, 685, 93, 857, 440, 380, 126, 721, 328, 753, 470,\n",
    "    743, 527\n",
    "]\n",
    "\n",
    "# your code goes here\n",
    "for number in numbers:"
   ]
  }
 ],
 "metadata": {
  "kernelspec": {
   "display_name": "Python 3",
   "language": "python",
   "name": "python3"
  },
  "language_info": {
   "codemirror_mode": {
    "name": "ipython",
    "version": 3
   },
   "file_extension": ".py",
   "mimetype": "text/x-python",
   "name": "python",
   "nbconvert_exporter": "python",
   "pygments_lexer": "ipython3",
   "version": "3.12.0"
  }
 },
 "nbformat": 4,
 "nbformat_minor": 2
}
