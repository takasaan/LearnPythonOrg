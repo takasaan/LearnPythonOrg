{
 "cells": [
  {
   "cell_type": "code",
   "execution_count": null,
   "metadata": {},
   "outputs": [],
   "source": [
    "#Functions are a convenient way to divide your code into useful blocks, \n",
    "#allowing us to order our code, make it more readable, reuse it and save some time. \n",
    "# Also functions are a key way to define interfaces so programmers can share their code.\n",
    "\n",
    "#How do you write functions in Python?\n",
    "#As we have seen on previous tutorials, Python makes use of blocks.\n",
    "#A block is a area of code of written in the format of:\n",
    "\n",
    "#関数とは何ですか?\n",
    "#関数は、コードを便利なブロックに分割する方法であり、コードを整理し、読みやすくし、再利用でき、時間を節約できます。\n",
    "# また、関数はプログラマーがコードを共有するためのインターフェースを定義する重要な方法でもあります。\n",
    "\n",
    "#Pythonではどのように関数を記述しますか?\n",
    "#以前のチュートリアルでも見たように、Pythonはブロックを利用します。\n",
    "\n",
    "#block_head:\n",
    "    #1st block line\n",
    "    #2nd block line\n",
    "\n",
    "    "
   ]
  },
  {
   "cell_type": "code",
   "execution_count": null,
   "metadata": {},
   "outputs": [],
   "source": [
    "#Where a block line is more Python code (even another block), \n",
    "# and the block head is of the following format: block_keyword block_name(argument1,argument2, ...) \n",
    "# Block keywords you already know are \"if\", \"for\", and \"while\".\n",
    "\n",
    "#Functions in python are defined using the block keyword \"def\", followed with the function's name as the block's name.\n",
    "\n",
    "#ブロック行は別のPythonコード(別のブロックでも構いません)で、ブロックヘッドは次の形式になります\n",
    "# : block_keyword block_name(argument1, argument2, ...)\n",
    "#これまでに学習したブロックキーワードは\"if\"、\"for\"、\"while\"\n",
    "#Pythonの関数は、ブロックキーワード\"def\"の後に関数名をブロック名として記述して定義します。"
   ]
  },
  {
   "cell_type": "code",
   "execution_count": null,
   "metadata": {},
   "outputs": [],
   "source": [
    "#Functions may also receive arguments (variables passed from the caller to the function). \n",
    "\n",
    "#このコードでは、\n",
    "#関数: my_function_with_args\n",
    "#引数: username, greeting\n",
    "\n",
    "def my_function_with_args(username, greeting): \n",
    "    print(\"Hello, %s , From My Function!, I wish you %s\"%(username, greeting)) \n",
    "#このコードだけでは何も出力されない\n",
    "\n",
    "#具体的な使い方\n",
    "my_function_with_args(\"John\", \"a great day!\")  #この行で関数名を my_function_with_args と宣言し、username と greeting という2つの引数を取る\n",
    "print(my_function_with_args)\n",
    "\n",
    "#最後のコードを付け加えることで　\n",
    "#Hello, John , From My Function!, I wish you a great day!　が出力される\n"
   ]
  },
  {
   "cell_type": "code",
   "execution_count": null,
   "metadata": {},
   "outputs": [],
   "source": [
    "#def functionとreturnを使ってdef sum_two_numbers(a, b) はa+bになりますよと定義している\n",
    "\n",
    "def sum_two_numbers(a, b):\n",
    "    return a + b\n",
    "#このコードだけでは何も出力されない\n",
    "\n",
    "#以下のように関数を呼び出せば:\n",
    "\n",
    "result = sum_two_numbers(2, 3) #2がaに代入される、3がbに代入される\n",
    "print(result)\n",
    "\n",
    "#実行結果は 5 となる。(return 2 + 3 が resultに代入される)\n"
   ]
  },
  {
   "cell_type": "code",
   "execution_count": null,
   "metadata": {},
   "outputs": [],
   "source": [
    "#Simply write the function's name followed by (), placing any required arguments within the brackets. \n",
    "# For example, lets call the functions written above (in the previous example): \n",
    "# 関数の名前に()を付けて書き、必要な引数を括弧内に入れれば関数を呼び出すことができます。\n",
    "# 例えば、前の例で定義した関数を呼び出すにはこのようにします\n",
    "\n",
    "# Define our 3 functions\n",
    "def my_function():\n",
    "print(\"Hello From My Function!\")\n",
    "\n",
    "def my_function_with_args(username, greeting):\n",
    "print(\"Hello, %s, From My Function!, I wish you %s\"%(username, greeting))\n",
    "\n",
    "def sum_two_numbers(a, b):\n",
    "  return a + b\n",
    "\n",
    "#ello From My Function!が出力される\n",
    "my_function()\n",
    "\n",
    "#\"Hello, John Doe, From My Function!, I wish you a great year!が出力される\"\n",
    "my_function_with_args(\"John Doe\", \"a great year!\")\n",
    "\n",
    "# このように Xを定義すると、 \n",
    "x = sum_two_numbers(1,2)\n",
    "print(x) #1+2なので = 3が出力される"
   ]
  },
  {
   "cell_type": "code",
   "execution_count": null,
   "metadata": {},
   "outputs": [],
   "source": [
    "#In this exercise you'll use an existing function, and while adding your own to create a fully functional program.\n",
    "#1.Add a function named list_benefits() that returns the following list of strings: \n",
    "# \"More organized code\", \"More readable code\", \"Easier code reuse\", \"Allowing programmers to share and connect code together\"\n",
    "#2. Add a function named build_sentence(info) which receives a single argument containing a string and \n",
    "# returns a sentence starting with the given string and ending with the string \" is a benefit of functions!\"\n",
    "#3. Run and see all the functions work together!\n",
    "\n",
    "#1. 　以下の文字列をreturnする関数list_benefits() を追加しなさい\n",
    "\n",
    "\"More organized code\"\n",
    "\"More readable code\"\n",
    "\"Easier code reuse\"\n",
    "\"Allowing programmers to share and connect code together\"\n",
    "\n",
    "#2. build_sentence(info)という関数を追加し、\n",
    "#1つの引数として文字列を受け取り、与えられた文字列で始まり、\"is a benefit of functions!\"で終わる文章を返すようにしてください。\n",
    "\n",
    "#3. 上手く動作するか確認しましょう\n",
    "\n",
    "\n",
    "def list_benefits():\n",
    "    return []\n",
    "\n",
    "# Modify this function to concatenate to each benefit - \" is a benefit of functions!\"\n",
    "def build_sentence(benefit):\n",
    "    return \"\" \n",
    "\n",
    "def name_the_benefits_of_functions():\n",
    "    list_of_benefits = list_benefits()\n",
    "    for benefit in list_of_benefits:\n",
    "        print(build_sentence(benefit))\n",
    "\n",
    "name_the_benefits_of_functions()"
   ]
  },
  {
   "cell_type": "code",
   "execution_count": null,
   "metadata": {},
   "outputs": [],
   "source": []
  }
 ],
 "metadata": {
  "kernelspec": {
   "display_name": "Python 3",
   "language": "python",
   "name": "python3"
  },
  "language_info": {
   "codemirror_mode": {
    "name": "ipython",
    "version": 3
   },
   "file_extension": ".py",
   "mimetype": "text/x-python",
   "name": "python",
   "nbconvert_exporter": "python",
   "pygments_lexer": "ipython3",
   "version": "3.12.0"
  }
 },
 "nbformat": 4,
 "nbformat_minor": 2
}
