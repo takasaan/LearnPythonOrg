{
 "cells": [
  {
   "cell_type": "code",
   "execution_count": null,
   "metadata": {},
   "outputs": [],
   "source": [
    "Dictionaries\n",
    "#A dictionary is a data type similar to arrays, but works with keys and values instead of indexes. \n",
    "# Each value stored in a dictionary can be accessed using a key, which is any type of object (a string, a number, a list, etc.) \n",
    "# instead of using its index to address it.For example, a database of phone numbers could be stored using a dictionary like this:\n",
    "#Dictionary(辞書)は、array(列)と同様のデータ型ですが、インデックスではなく、keyとvaluesを組み合わせて使用します。\n",
    "# Dictionaryに格納されている値は、インデックスではなく、任意のオブジェクト(文字列、数値、リストなど)をキーとして使ってアクセスできます。\n",
    "# 例えば、電話番号のデータベースは、次のようなDictionaryを使って格納することができます。\n",
    "\n",
    "phonebook = {} #これがdictionary　ノートみたいなかんじ？\n",
    "phonebook[\"John\"] = 938477566 #名前と電話番号を入れてる\n",
    "phonebook[\"Jack\"] = 938377264 #この場合、keyがjack, valuesが938377264\n",
    "phonebook[\"Jill\"] = 947662781\n",
    "print(phonebook)\n",
    "\n",
    "#で書き込んだjohn, jack, jillの電話番号がprintされる。 \n",
    "{'John': 938477566, 'Jill': 947662781, 'Jack': 938377264}"
   ]
  },
  {
   "cell_type": "code",
   "execution_count": null,
   "metadata": {},
   "outputs": [],
   "source": [
    "#Alternatively, a dictionary can be initialized with the same values in the following notation: \n",
    "# 代わりに、dictionaryはこのようにも使える　\n",
    "\n",
    "#{}これがノートだとして、その間に必要な情報　\"John\" : 938477566,　をはさんでいくようなイメージ？\n",
    "\n",
    "phonebook = {\n",
    "    \"John\" : 938477566, \n",
    "    \"Jack\" : 938377264,\n",
    "    \"Jill\" : 947662781\n",
    "}\n",
    "print(phonebook)\n",
    "\n",
    "#先ほどと同じくjohn, jack, jillの電話番号がprintされる。 \n",
    "{'John': 938477566, 'Jill': 947662781, 'Jack': 938377264}"
   ]
  },
  {
   "cell_type": "code",
   "execution_count": null,
   "metadata": {},
   "outputs": [],
   "source": [
    "#Iterating over dictionaries\n",
    "#Dictionaries can be iterated over, just like a list. \n",
    "# However, a dictionary, unlike a list, does not keep the order of the values stored in it. \n",
    "# To iterate over key value pairs, use the following syntax: \n",
    "\n",
    "#Dictionaryはlistのようにiterated over(繰り返し)できるが、Listとは異なり、 valuesの順番を保持することはできない。 \n",
    "# keyの値をiterate over（繰り返)したい場合、以下のような書き方をします\n",
    "\n",
    "phonebook = {\"John\" : 938477566,\"Jack\" : 938377264,\"Jill\" : 947662781}\n",
    "for name, number in phonebook.items():#ここで 名前　数字　の順番で出力するように書いている\n",
    "    print(\"Phone number of %s is %d\" % (name, number))\n",
    "\n",
    "#出力結果はこのようになる\n",
    "Phone number of Jack is 938377264\n",
    "Phone number of John is 938477566\n",
    "Phone number of Jill is 947662781"
   ]
  },
  {
   "cell_type": "code",
   "execution_count": null,
   "metadata": {},
   "outputs": [],
   "source": [
    "#Removing a value\n",
    "#To remove a specified index, use either one of the following notations:\n",
    "#指定した値を削除するには、このように del dictionary名[\"抜き出したい値\"] と書く。\n",
    "\n",
    "phonebook = {\n",
    "   \"John\" : 938477566,\n",
    "   \"Jack\" : 938377264,\n",
    "   \"Jill\" : 947662781\n",
    "}\n",
    "del phonebook[\"John\"]\n",
    "print(phonebook)\n",
    "\n",
    "#これで　\"John\" : 938477566,　が削除されて以下が出力される\n",
    "{'Jack': 938377264, 'Jill': 947662781}"
   ]
  },
  {
   "cell_type": "code",
   "execution_count": null,
   "metadata": {},
   "outputs": [],
   "source": [
    "#または、 popを使って 辞書名.pop(\"抜き出したい値\") この書き方でも同じように指定した値が削除できる。\n",
    "\n",
    "phonebook = {\n",
    "   \"John\" : 938477566,\n",
    "   \"Jack\" : 938377264,\n",
    "   \"Jill\" : 947662781\n",
    "}\n",
    "phonebook.pop(\"John\")\n",
    "print(phonebook)\n",
    "\n",
    "#先ほどと同じ答えが出力される\n",
    "{'Jill': 947662781, 'Jack': 938377264}"
   ]
  },
  {
   "cell_type": "code",
   "execution_count": null,
   "metadata": {},
   "outputs": [],
   "source": [
    "#Exercise\n",
    "#Add \"Jake\" to the phonebook with the phone number 938273443, and remove Jill from the phonebook.\n",
    "#\"Jake\" の電話番号938273443をphone numberに追加して、 jillの情報を削除してください。\n",
    "\n",
    "phonebook = {  \n",
    "    \"John\" : 938477566,\n",
    "    \"Jack\" : 938377264,\n",
    "    \"Jill\" : 947662781\n",
    "}  \n",
    "# your code goes here\n",
    "\n",
    "# testing code\n",
    "if \"Jake\" in phonebook:  \n",
    "    print(\"Jake is listed in the phonebook.\")\n",
    "    \n",
    "if \"Jill\" not in phonebook:      \n",
    "    print(\"Jill is not listed in the phonebook.\") "
   ]
  }
 ],
 "metadata": {
  "language_info": {
   "name": "python"
  }
 },
 "nbformat": 4,
 "nbformat_minor": 2
}
