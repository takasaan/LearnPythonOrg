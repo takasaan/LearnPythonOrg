{
 "cells": [
  {
   "cell_type": "code",
   "execution_count": null,
   "metadata": {},
   "outputs": [],
   "source": [
    "# Numpy Arrays\n",
    "# Numpy arrays are great alternatives to Python Lists. \n",
    "# Some of the key advantages of Numpy arrays are that they are fast, easy to work with, \n",
    "# and give users the opportunity to perform calculations across entire arrays.\n",
    "\n",
    "# In the following example, you will first create two Python lists. \n",
    "# Then, you will import the numpy package and create numpy arrays out of the newly created lists.\n",
    "\n",
    "# Numpy arraysは Python Listのとても良い変わりになります。\n",
    "# Numpy arraysのいくつかの良い点は、高速で扱いやすく、ユーザーがentire arrays(配列全体)にわたって計算できることです。\n",
    "\n",
    "# 次の例では、まず二つのPythonリストを作成します。\n",
    "# その後、numpyパッケージをインポートし、新しく作成したリストからNumpy arraysを作成します。\n",
    "\n",
    "# Create 2 new lists height and weight \n",
    "height = [1.87,  1.87, 1.82, 1.91, 1.90, 1.85]#身長のリスト\n",
    "weight = [81.65, 97.52, 95.25, 92.98, 86.18, 88.45] #体重のリスト\n",
    "\n",
    "# Import the numpy package as np　# numpyパッケージで np をインポートする\n",
    "import numpy as np\n",
    "\n",
    "# Create 2 numpy arrays from height and weight　身長体重の列から2つのnumpy arraysを作る\n",
    "np_height = np.array(height)\n",
    "np_weight = np.array(weight)"
   ]
  },
  {
   "cell_type": "code",
   "execution_count": null,
   "metadata": {},
   "outputs": [],
   "source": [
    "# Element-wise calculations：要素ごとの計算\n",
    "# Now we can perform element-wise calculations on height and weight. For example, you could take all 6 of the height and weight observations above, and calculate the BMI for each observation with a single equation. These operations are very fast and computationally efficient. They are particularly helpful when you have 1000s of observations in your data.\n",
    "\n",
    "# さて、これで身長と体重の要素ごとの計算ができるようになりました。\n",
    "# 例えば リストの中にある6個分の身長と体重を観測でき、\n",
    "# それぞれの値に対してBMIを1つの方程式で計算できます。\n",
    "# これらの方法は非常に高速で計算効率が良いです。データに1000件以上の観測値がある場合に特に役立ちます。\n",
    "\n",
    "# Calculate bmi　BMIを計算する\n",
    "bmi = np_weight / np_height ** 2\n",
    "\n",
    "# Print the result　結果をプリントする\n",
    "print(bmi)"
   ]
  },
  {
   "cell_type": "code",
   "execution_count": null,
   "metadata": {},
   "outputs": [],
   "source": [
    "# Subsetting: 部分集合\n",
    "# Another great feature of Numpy arrays is the ability to subset. For instance, if you wanted to know which observations in our BMI array are above 23, we could quickly subset it to find out.\n",
    "\n",
    "# その他のNumpy arraysの素晴らしい特徴は、部分集合を作る能力です。\n",
    "# 例えば、BMI配列の中で23よりも大きい観測値がどれかを知りたい場合、すぐに部分集合を作成して調べることができます。\n",
    "\n",
    "# For a boolean response 真偽応答のために\n",
    "bmi > 23\n",
    "\n",
    "# Print only those observations above 23　23より大きい観測値のみを出力\n",
    "bmi[bmi > 23]"
   ]
  },
  {
   "cell_type": "code",
   "execution_count": null,
   "metadata": {},
   "outputs": [],
   "source": [
    "# Exercise\n",
    "# First, convert the list of weights from a list to a Numpy array. \n",
    "# Then, convert all of the weights from kilograms to pounds. Use the scalar conversion of 2.2 lbs per kilogram to make your conversion. Lastly, print the resulting array of weights in pounds.\n",
    "\n",
    "weight_kg = [81.65, 97.52, 95.25, 92.98, 86.18, 88.45]\n",
    "\n",
    "import numpy as np\n",
    "\n",
    "# Create a numpy array np_weight_kg from weight_kg\n",
    "    \n",
    "\n",
    "# Create np_weight_lbs from np_weight_kg\n",
    "\n",
    "# Print out np_weight_lbs"
   ]
  },
  {
   "cell_type": "markdown",
   "metadata": {},
   "source": []
  },
  {
   "cell_type": "code",
   "execution_count": null,
   "metadata": {},
   "outputs": [],
   "source": [
    "# 初めに体重のリストを Numpy 配列にに変換しましょう。\n",
    "# そして、全ての体重をキログラムからポンドにしましょう。\n",
    "# １キロに対して2.2 lbsという値で計算しましょう。最後に、ポンドに変換された列の体重を出力しましょう。\n",
    "\n",
    "weight_kg = [81.65, 97.52, 95.25, 92.98, 86.18, 88.45]\n",
    "\n",
    "# weight_kgからNumpy arrays np_weight_kg を作成\n",
    "np_weight_kg = np.array(weight_kg)\n",
    "\n",
    "# np_weight_lbsは、np_weight_kg に 2.2をかけたもの\n",
    "np_weight_lbs = np_weight_kg * 2.2\n",
    "\n",
    "# print out np_weight_lbs\n",
    "print(np_weight_lbs)"
   ]
  },
  {
   "cell_type": "markdown",
   "metadata": {},
   "source": []
  },
  {
   "cell_type": "code",
   "execution_count": null,
   "metadata": {},
   "outputs": [],
   "source": [
    "# コメント：numpy や pandas は、データサイエンティストがよく使うものですが、LeetCode やるには知らなくてもいいでしょう。\n",
    "# モジュールについては、ぼちぼち理解すればいいでしょう。"
   ]
  }
 ],
 "metadata": {
  "language_info": {
   "name": "python"
  }
 },
 "nbformat": 4,
 "nbformat_minor": 2
}
