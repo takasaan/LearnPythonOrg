{
 "cells": [
  {
   "cell_type": "code",
   "execution_count": null,
   "metadata": {},
   "outputs": [],
   "source": [
    "# Pandas Basics : Pandasの基礎\n",
    "# Pandas DataFrames：Pandasデータフレーム\n",
    "# Pandas is a high-level data manipulation tool developed by Wes McKinney. \n",
    "# It is built on the Numpy package and its key data structure is called the DataFrame. DataFrames allow you to store and manipulate tabular data in rows of observations and columns of variables.\n",
    "# There are several ways to create a DataFrame. One way way is to use a dictionary. For example:\n",
    "\n",
    "# Pandasは Wes Mckinneyさんによって開発された、ハイレベルのデータマニュピレーションツールです。\n",
    "# Numpy package上で構築されており、key data structureは DataFrame(データフレーム)と呼ばれます。\n",
    "# DataFrame(データフレーム)は観測値の行と変数の列を含む表形式のデータを保存および操作することができます。\n",
    "# DataFrame(データフレーム)の作り方はいくつかありますが、1つはdictionaryを使うことです。\n",
    "\n",
    "dict = {\"country\": [\"Brazil\", \"Russia\", \"India\", \"China\", \"South Africa\"],\n",
    "       \"capital\": [\"Brasilia\", \"Moscow\", \"New Dehli\", \"Beijing\", \"Pretoria\"],\n",
    "       \"area\": [8.516, 17.10, 3.286, 9.597, 1.221],\n",
    "       \"population\": [200.4, 143.5, 1252, 1357, 52.98] }# dictionaryの中に、国、首都、面積、人口の列が入ってる\n",
    "\n",
    "import pandas as pd\n",
    "brics = pd.DataFrame(dict)\n",
    "print(brics)\n",
    "\n",
    "# pandasを pd という名前でインポートしてる\n",
    "#'dict'という名前の辞書からDataFrameを作成、このDataFrameは、辞書のキーが列の名前となり、それぞれのキーに対応するリストが列のデータとなる　\n",
    "# 作成したDataFrame 'brics' を出力する。出力すると、インデックスに番号が振られ、国、首都、面積、人口が列として表示された表が得られる"
   ]
  },
  {
   "cell_type": "code",
   "execution_count": null,
   "metadata": {},
   "outputs": [],
   "source": [
    "# As you can see with the new brics DataFrame, \n",
    "# Pandas has assigned a key for each country as the numerical values 0 through 4. \n",
    "# If you would like to have different index values, say, the two letter country code, \n",
    "# you can do that easily as well.\n",
    "\n",
    "# 作成されたbrics DataFrameを見ると、各国に対して0から4までの数値をキーとして割り当てています。\n",
    "# もし、2文字の国コードのような異なるインデックス値を設定したい場合、それも簡単に行うことができます。\n",
    "\n",
    "# Set the index for brics\n",
    "brics.index = [\"BR\", \"RU\", \"IN\", \"CH\", \"SA\"] #0,1,2,3,4のところがそれぞれこの2文字に変わる\n",
    "\n",
    "# Print out brics with new index values\n",
    "print(brics)"
   ]
  },
  {
   "cell_type": "code",
   "execution_count": null,
   "metadata": {},
   "outputs": [],
   "source": [
    "# Another way to create a DataFrame is by importing a csv file using Pandas. Now, the csv cars.csv is stored and can be imported using pd.read_csv:\n",
    "\n",
    "# DataFrameを作る別の方法として、Pandasを使ってCSVファイルをインポートする方法もあります。\n",
    "# これはcsvファイル cars.csv が保存されており、pd.read_csv を使ってインポートすることができます。\n",
    "\n",
    "# Import pandas as pd　pandasをpdという名前でインポートしてる\n",
    "import pandas as pd\n",
    "\n",
    "# Import the cars.csv data: carsという名前でcars.csv をインポートしている\n",
    "cars = pd.read_csv('cars.csv')\n",
    "\n",
    "# Print out cars　carsを出力\n",
    "print(cars)"
   ]
  },
  {
   "cell_type": "code",
   "execution_count": null,
   "metadata": {},
   "outputs": [],
   "source": [
    "# Indexing DataFrames　DataFrameのインデックス指定\n",
    "# There are several ways to index a Pandas DataFrame. \n",
    "# One of the easiest ways to do this is by using square bracket notation.\n",
    "\n",
    "# In the example below, you can use square brackets to select one column of the cars DataFrame. \n",
    "# You can either use a single bracket or a double bracket. \n",
    "# The single bracket will output a Pandas Series, while a double bracket will output a Pandas DataFrame.\n",
    "\n",
    "# Pandas DataFrameをインデックス指定する方法はいくつかありますが、もっとも簡単な方法の一つは [] を使用することです。\n",
    "\n",
    "# この例では、[] を使ってcars DataFrameの一つの列を選択することができます。\n",
    "# 単一の[] を使用することも、[[]]を使用することもできます。\n",
    "# []を使用するとPandas Seriesが出力され、[[]] を使用するとPandas DataFrameが出力されます。\n",
    "\n",
    "# pandasとcars.csvをインポート\n",
    "import pandas as pd\n",
    "cars = pd.read_csv('cars.csv', index_col = 0)\n",
    "\n",
    "# country列をPandas Seriesとして出力\n",
    "print(cars['country'])\n",
    "\n",
    "# country列をPandas DataFrameとして出力\n",
    "print(cars[['country']])\n",
    "\n",
    "# countryとdrives_right列を含むDataFrameを出力\n",
    "print(cars[['country', 'drives_right']])"
   ]
  },
  {
   "cell_type": "code",
   "execution_count": null,
   "metadata": {},
   "outputs": [],
   "source": [
    "# Square brackets can also be used to access observations (rows) from a DataFrame. For example:\n",
    "# [] は DataFrameのから観測値(行)にアクセスすることもできます。\n",
    "# 例えば\n",
    "\n",
    "# Import cars data データをインポート\n",
    "import pandas as pd\n",
    "cars = pd.read_csv('cars.csv', index_col = 0)\n",
    "\n",
    "# Print out first 4 observations 最初の4つの観測値を出力\n",
    "print(cars[0:4])\n",
    "\n",
    "# Print out fifth and sixth observation 5番目と6番目の観測値を出力\n",
    "print(cars[4:6])"
   ]
  },
  {
   "cell_type": "code",
   "execution_count": null,
   "metadata": {},
   "outputs": [],
   "source": [
    "# You can also use loc and iloc to perform just about any data selection operation. \n",
    "# loc is label-based, which means that you have to specify rows and columns based on their row and column labels. \n",
    "# iloc is integer index based, so you have to specify rows and columns by their integer index like you did in the previous exercise.\n",
    "\n",
    "# データを選択したり操作するために、loc と iloc を使うこともできます。\n",
    "# loc はラベルベースであり、つまり行と列をそれぞれの行と列のラベルに基づいて指定する必要があります。\n",
    "# iloc はinteger indec(整数インデックス)ベースで、前の演習で行ったように、\n",
    "# 行と列をそれぞれのinteger indec(整数インデックス)によって指定する必要があります。\n",
    "\n",
    "# Import cars data データをインポート\n",
    "import pandas as pd\n",
    "cars = pd.read_csv('cars.csv', index_col = 0) \n",
    "\n",
    "# Print out observation for Japan \n",
    "# 3番目の観測値（整数インデックス2に対応する行）を選択 Japan を出力\n",
    "print(cars.iloc[2])\n",
    "\n",
    "# Print out observations for Australia and Egypt \n",
    "# loc を使って、「AUS」と「EG」のラベルを持つ行を出力する\n",
    "print(cars.loc[['AUS', 'EG']])"
   ]
  },
  {
   "cell_type": "code",
   "execution_count": null,
   "metadata": {},
   "outputs": [],
   "source": [
    "import pandas as pd\n",
    "cars = pd.read_csv('cars.csv', index_col = 0) \n",
    "print(cars.iloc[2])\n",
    "print(cars.loc[['AUS', 'EG']])\n",
    "\n",
    "with open(\"cars.csv\") as f: print(f.read())"
   ]
  },
  {
   "cell_type": "code",
   "execution_count": null,
   "metadata": {},
   "outputs": [],
   "source": [
    "cars.csv #の中身はこうやってみれる\n",
    "with open(\"cars.csv\") as f: print(f.read())\n",
    "\n",
    "#結果,cars_per_cap,country,drives_right\n",
    "US,809,United States,True\n",
    "AUS,731,Australia,False\n",
    "JAP,588,Japan,False\n",
    "IN,18,India,False\n",
    "RU,200,Russia,True\n",
    "MOR,70,Morocco,True\n",
    "EG,45,Egypt,True"
   ]
  },
  {
   "cell_type": "code",
   "execution_count": null,
   "metadata": {},
   "outputs": [],
   "source": []
  }
 ],
 "metadata": {
  "kernelspec": {
   "display_name": "Python 3",
   "language": "python",
   "name": "python3"
  },
  "language_info": {
   "codemirror_mode": {
    "name": "ipython",
    "version": 3
   },
   "file_extension": ".py",
   "mimetype": "text/x-python",
   "name": "python",
   "nbconvert_exporter": "python",
   "pygments_lexer": "ipython3",
   "version": "3.12.0"
  }
 },
 "nbformat": 4,
 "nbformat_minor": 2
}
