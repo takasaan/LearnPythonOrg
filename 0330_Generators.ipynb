{
 "cells": [
  {
   "cell_type": "code",
   "execution_count": null,
   "metadata": {},
   "outputs": [],
   "source": [
    "# Generators:ジェネレーター\n",
    "# Generators are very easy to implement, but a bit difficult to understand.\n",
    "\n",
    "# Generators are used to create iterators, but with a different approach. Generators are simple functions which return an iterable set of items, one at a time, in a special way.\n",
    "\n",
    "# When an iteration over a set of item starts using the for statement, the generator is run. \n",
    "# Once the generator's function code reaches a \"yield\" statement, the generator yields its execution back to the for loop, returning a new value from the set. The generator function can generate as many values (possibly infinite) as it wants, yielding each one in its turn.\n",
    "\n",
    "# Here is a simple example of a generator function which returns 7 random integers:\n",
    "\n",
    "# ジェネレーターはとても簡単に使えますが、理解するのが少し難しいでしょう。\n",
    "# ジェネレーターはiterator(反復子)を作るために使われますが、少し違うアプローチになります。\n",
    "# ジェネレータはシンプルな関数で、一度に一つのアイテムを特別な方法で返す反復可能なセットを生成します。\n",
    "\n",
    "# for文を使ってアイテムセットのイテレーションが開始されると、ジェネレータが実行されます。\n",
    "# ジェネレータ関数のコードがyield文に達すると、ジェネレータはその実行をforループに戻し、セットから新しい値を返します。\n",
    "# ジェネレータ関数は、必要なだけ多くの値（理論的には無限に）を生成し、それぞれを順番にyieldすることができます。\n",
    "# これは7つのランダムな整数を返すジェネレータ関数の例です。"
   ]
  },
  {
   "cell_type": "code",
   "execution_count": null,
   "metadata": {},
   "outputs": [],
   "source": [
    "import random\n",
    "\n",
    "def lottery():\n",
    "    # returns 6 numbers between 1 and 40  1から40の6つの数字を返す\n",
    "    for i in range(6):\n",
    "        yield random.randint(1, 40)\n",
    "\n",
    "    # returns a 7th number between 1 and 15　1から15の間にある7番目の数字を返す\n",
    "    yield random.randint(1, 15)\n",
    "\n",
    "for random_number in lottery():\n",
    "       print(\"And the next number is.. %d!\" %(random_number))\n",
    "\n",
    "# This function decides how to generate the random numbers on its own, and executes the yield statements one at a time, pausing in between to yield execution back to the main for loop.\n",
    "\n",
    "# この関数は、どのようにランダムな数値を生成するか自身で決定し、yield文を一度に一つずつ実行します。\n",
    "# その間、実行をメインのforループに戻すために一時停止します。"
   ]
  },
  {
   "cell_type": "code",
   "execution_count": null,
   "metadata": {},
   "outputs": [],
   "source": [
    "# Exercise\n",
    "# Write a generator function which returns the Fibonacci series. \n",
    "# They are calculated using the following formula: \n",
    "#     The first two numbers of the series is always equal to 1, \n",
    "#     and each consecutive number returned is the sum of the last two numbers. \n",
    "#     Hint: Can you use only two variables in the generator function? \n",
    "#     Remember that assignments can be done simultaneously. The code will simultaneously switch the values of a and b.\n",
    "\n",
    "a = 1\n",
    "b = 2\n",
    "a, b = b, a\n",
    "print(a, b)\n",
    "\n",
    "# fill in this function\n",
    "def fib():\n",
    "    pass #this is a null statement which does nothing when executed, useful as a placeholder.\n",
    "\n",
    "# testing code\n",
    "import types\n",
    "if type(fib()) == types.GeneratorType:\n",
    "    print(\"Good, The fib function is a generator.\")\n",
    "\n",
    "    counter = 0\n",
    "    for n in fib():\n",
    "        print(n)\n",
    "        counter += 1\n",
    "        if counter == 10:\n",
    "            break"
   ]
  },
  {
   "cell_type": "code",
   "execution_count": null,
   "metadata": {},
   "outputs": [],
   "source": [
    "# フィボナッチ数列を返すジェネレータ関数を書きなさい。\n",
    "# 数列は以下の式で計算できます。\n",
    "# 最初の2つの番号はいつも1です。\n",
    "# 連続する各数は、直前の2つの数の和となる\n",
    "# ヒント：\n",
    "# ジェネレータ関数の中でたった2つの変数だけを使うことができますか？\n",
    "# このコードは a b の値が同時に入れ替わります\n",
    "\n",
    "# 「フィボナッチ数列」とは、 イタリアの数学者であるフィボナッチさんが名付けた数列で、\n",
    "# 「1、1、2、3、5、8、13、21、34、55、89、144、233…」のように、前の数字を足した数が続く法則のこと"
   ]
  },
  {
   "cell_type": "code",
   "execution_count": null,
   "metadata": {},
   "outputs": [],
   "source": [
    "#答え\n",
    "a = 1\n",
    "b = 2\n",
    "a, b = b, a\n",
    "print(a, b)\n",
    "\n",
    "# fill in this function\n",
    "def fib(): #fibという関数を定義している\n",
    "    a, b = 1, 1 #フィボナッチ数列の最初の数字は1.1になるから\n",
    "    while 1:\n",
    "        yield a #aの値をyieldしている。これにより、関数の呼び出し元に値を返し、次にfib()が呼び出されたときここから再開する\n",
    "        a, b = b, a + b #フィボナッチ数列の計算方法を aと b でやっている。 1, 1+1...."
   ]
  },
  {
   "cell_type": "code",
   "execution_count": null,
   "metadata": {},
   "outputs": [],
   "source": []
  }
 ],
 "metadata": {
  "language_info": {
   "name": "python"
  }
 },
 "nbformat": 4,
 "nbformat_minor": 2
}
