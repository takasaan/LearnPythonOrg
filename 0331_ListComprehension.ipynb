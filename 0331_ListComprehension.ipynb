{
 "cells": [
  {
   "cell_type": "code",
   "execution_count": null,
   "metadata": {},
   "outputs": [],
   "source": [
    "# List Comprehensions: リスト内包表記\n",
    "# List Comprehensions is a very powerful tool, which creates a new list based on another list, in a single, readable line.\n",
    "\n",
    "# For example, let's say we need to create a list of integers which specify the length of each word in a certain sentence, but only if the word is not the word \"the\".\n",
    "\n",
    "# リストのリスト内包表記は、別のリストを元に1行で新しいリストを作ることができるとてもパワフルなツールです。\n",
    "# 例えば、次のような文章があるとします:　\"the quick brown fox jumps over the lazy dog\"\n",
    "# この文章の単語の長さを表すリストを作成したいとします。ただし、\"the\"という単語は除外したいとします。\n",
    "\n",
    "# 従来のやり方だと、次のようになります:"
   ]
  },
  {
   "cell_type": "code",
   "execution_count": null,
   "metadata": {},
   "outputs": [],
   "source": [
    "sentence = \"the quick brown fox jumps over the lazy dog\"\n",
    "words = sentence.split() #wordsリストに文章を単語ごとに分割した結果が格納される\n",
    "word_lengths = []#wordsリストの各単語の長さが格納される、\n",
    "for word in words:\n",
    "      if word != \"the\":#ただし、\"the\"という単語は除外される \n",
    "          word_lengths.append(len(word))\n",
    "print(words)\n",
    "print(word_lengths)\n",
    "\n",
    "# メモ\n",
    "# .split()functionを使うと、文字列を分割することができる\n",
    "# len()function は文字数を数えることができる"
   ]
  },
  {
   "cell_type": "code",
   "execution_count": null,
   "metadata": {},
   "outputs": [],
   "source": [
    "# Using a list comprehension, we could simplify this process to this notation:\n",
    "# List Comprehensionを使うと、なんと同じ処理が1行で書けます:\n",
    "\n",
    "sentence = \"the quick brown fox jumps over the lazy dog\" #先ほどのコードと同じ\n",
    "words = sentence.split()#先ほどのコードと同じ\n",
    "word_lengths = [len(word) for word in words if word != \"the\"]#ここで List comprehensionが使われてる\n",
    "print(words)\n",
    "print(word_lengths)"
   ]
  },
  {
   "cell_type": "code",
   "execution_count": null,
   "metadata": {},
   "outputs": [],
   "source": [
    "#メモ\n",
    "word_lengths = [len(word) for word in words if word != \"the\"]\n",
    "\n",
    "#ここで何が起こっているか？\n",
    "#len(word)では、\"the quick brown fox jumps over the lazy dog\"この単語ごとの文字数を数えることができる\n",
    "#!= \"the\" ここで　\n",
    "#\"the\" 以外の各単語 \"quick\" \"brown\" \"for\" \"jumps\" \"over\" \"lazy\" \"dog\" に含まれる文字数を数えてねと指示してる\n",
    "#\"the\" は除外されて、 word_lengths = [5, 5, 3, 3, 5, 4, 4]"
   ]
  },
  {
   "cell_type": "code",
   "execution_count": null,
   "metadata": {},
   "outputs": [],
   "source": [
    "#1番最初のコードも、2番目の リスト内包表記を使ったコードも同じ出力結果になる"
   ]
  },
  {
   "cell_type": "code",
   "execution_count": null,
   "metadata": {},
   "outputs": [],
   "source": [
    "# Exercise\n",
    "# Using a list comprehension, create a new list called \"newlist\" out of the list \"numbers\", \n",
    "# which contains only the positive numbers from the list, as integers.\n",
    "\n",
    "numbers = [34.6, -203.4, 44.9, 68.3, -12.2, 44.6, 12.7]\n",
    "newlist = []\n",
    "print(newlist) "
   ]
  },
  {
   "cell_type": "code",
   "execution_count": null,
   "metadata": {},
   "outputs": [],
   "source": [
    "# リスト内包表記を使って、 numbers リストの外に正の数だけを含む整数が入っている、newlist という新しいリストを作りましょう。\n",
    "\n",
    "#numbers　リストの中から、正の数を抜き出して　int 型にした後\n",
    "#それを新しい newlistへ入れたいと思います。"
   ]
  },
  {
   "cell_type": "code",
   "execution_count": null,
   "metadata": {},
   "outputs": [],
   "source": [
    "#最初の例のようにnewlist = []　の中にコードを書いていけばいいと思います\n",
    "#なので、こうなる？\n",
    "\n",
    "numbers = [34.6, -203.4, 44.9, 68.3, -12.2, 44.6, 12.7]\n",
    "newlist = [int(number) for number in numbers if number > 0]\n",
    "print(newlist)"
   ]
  },
  {
   "cell_type": "code",
   "execution_count": null,
   "metadata": {},
   "outputs": [],
   "source": [
    "#今日のメモ\n",
    "#.split() を使うと、文字列を分割することができる\n",
    "#len() は文字数を数えることができる\n",
    "#[]このリストの中に、for文や if文、len(), int()などの関数を横並びに入れることができる"
   ]
  }
 ],
 "metadata": {
  "language_info": {
   "name": "python"
  }
 },
 "nbformat": 4,
 "nbformat_minor": 2
}
