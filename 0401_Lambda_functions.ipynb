{
 "cells": [
  {
   "cell_type": "code",
   "execution_count": null,
   "metadata": {},
   "outputs": [],
   "source": [
    "# Lambda functions: ラムダ関数\n",
    "# Normally we define a function using the def keyword somewhere in the code and call it whenever we need to use it. \n",
    "# 通常、 function(関数)を定義する時には、 このようにコードのどこかで　def を使って必要な時に呼び出しますね\n",
    "\n",
    "def sum(a,b):\n",
    "    return a + b\n",
    "\n",
    "a = 1\n",
    "b = 2\n",
    "c = sum(a,b)\n",
    "print(c)"
   ]
  },
  {
   "cell_type": "code",
   "execution_count": null,
   "metadata": {},
   "outputs": [],
   "source": [
    "# Now instead of defining the function somewhere and calling it, we can use python's lambda functions, which are inline functions defined at the same place we use it. So we don't need to declare a function somewhere and revisit the code just for a single time use.\n",
    "\n",
    "# They don't need to have a name, so they also called anonymous functions. We define a lambda function using the keyword lambda.\n",
    "\n",
    "# 関数定義して呼び出す代わりに、pythonのLambda function(ラムダ関数)を使うことができます。\n",
    "# ラムダ関数は、使用する場所で直接定義されるインライン関数です。そのため、関数を別の場所で宣言し、一度だけ使うためにコードを再確認する必要がありません。\n",
    "\n",
    "# ラムダ関数は名前を持つ必要がないため、無名関数とも呼ばれます。ラムダ関数は、lambdaキーワードを使って定義します。\n",
    "\n",
    "your_function_name = lambda inputs : output"
   ]
  },
  {
   "cell_type": "code",
   "execution_count": null,
   "metadata": {},
   "outputs": [],
   "source": [
    "# So the above sum example using lambda function would be,\n",
    "# つまり、最初の sum　の例を ラムダ関数を使うとこうなります。\n",
    "\n",
    "a = 1\n",
    "b = 2\n",
    "sum = lambda x,y : x + y#ここでラムダ関数が sum(a,b)に代入される： a,b : a+b　？？\n",
    "c = sum(a,b)\n",
    "print(c) \n",
    "\n",
    "# Here we are assigning the lambda function to the variable sum, \n",
    "# and upon giving the arguments i.e. a and b, it works like a normal function.\n",
    "\n",
    "# ここではラムダ関数を変数sumに代入しています。引数a, bを与えると、通常の関数のように動作します"
   ]
  },
  {
   "cell_type": "code",
   "execution_count": null,
   "metadata": {},
   "outputs": [],
   "source": [
    "sum = lambda x,y : x + y  # ラムダ関数が定義され、変数 sum に代入される\n",
    "c = sum(1,2)  # a=1, b=2 が引数として渡され、ラムダ関数内で 1+2 が計算される\n",
    "# 結果として、c には 3 が代入される"
   ]
  },
  {
   "cell_type": "code",
   "execution_count": null,
   "metadata": {},
   "outputs": [],
   "source": [
    "# Exercise\n",
    "# Write a program using lambda functions to check if a number in the given list is odd. \n",
    "# Print \"True\" if the number is odd or \"False\" if not for each element.\n",
    "\n",
    "l = [2,4,7,3,14,19]\n",
    "for i in l:\n",
    "    # your code here"
   ]
  },
  {
   "cell_type": "code",
   "execution_count": null,
   "metadata": {},
   "outputs": [],
   "source": [
    "# ラムダ関数を使って、もしリスト内の数字が奇数か確認するプログラムを書きましょう。\n",
    "# 奇数だったら\"True\"を出力、そうで無ければ\"False\"を出力します。\n",
    "# If 文とラムダ関数を組み合わせるのかな？と思いますが、\n",
    "\n",
    "your_function_name = lambda inputs : output#これにif 文を使う・・・？\n",
    "\n",
    "# 奇数を求めるためには num % 2 != 0  　または　num %2 == 1 が使えると思います\n",
    "# わからないので答えを見ます"
   ]
  },
  {
   "cell_type": "code",
   "execution_count": null,
   "metadata": {},
   "outputs": [],
   "source": [
    "l = [2,4,7,3,14,19]\n",
    "for i in l:\n",
    "    # your code here\n",
    "    my_lambda = lambda x : (x % 2) == 1  #このケースでは ( )をつけなくても大丈夫\n",
    "    print(my_lambda(i)) "
   ]
  },
  {
   "cell_type": "code",
   "execution_count": null,
   "metadata": {},
   "outputs": [],
   "source": [
    "# my_lambda = lambda x : (x % 2) == 1 の部分がうまく理解できなくて、claude3 Opusに聞いています\n",
    "\n",
    "# lambda x: (x % 2) == 1は引数xを取り、xが奇数かどうか（x % 2が1に等しいかどうか）をチェックします。\n",
    "# そして、iをmy_lambda関数に渡して実行し、結果を出力しています。各iがリストlの要素で、それが奇数か偶数かを判断しています。\n",
    "\n",
    "# 引数は x でも a でも　b でも構いませんが、統一したものを使用する必要があります"
   ]
  },
  {
   "cell_type": "code",
   "execution_count": null,
   "metadata": {},
   "outputs": [],
   "source": [
    "https://www.learnpython.org/en/Functions\n",
    "#Odaさん:こちらの普通の関数と見比べておいてください。 "
   ]
  }
 ],
 "metadata": {
  "language_info": {
   "name": "python"
  }
 },
 "nbformat": 4,
 "nbformat_minor": 2
}
