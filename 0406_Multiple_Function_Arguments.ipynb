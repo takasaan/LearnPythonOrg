{
 "cells": [
  {
   "cell_type": "code",
   "execution_count": null,
   "metadata": {},
   "outputs": [],
   "source": [
    "# Multiple Function Arguments: 複数の関数引数\n",
    "# Every function in Python receives a predefined number of arguments, if declared normally, like this:\n",
    "\n",
    "# Pythonの関数は、普通の宣言方法では、予め定義された数の引数を受け取ります。\n",
    "# 例えば、以下のように宣言された関数は、3つの引数を受け取ります。\n",
    "\n",
    "def myfunction(first, second, third):\n",
    "    # do something with the 3 variables　3つのvariables(変数)に対して何かする"
   ]
  },
  {
   "cell_type": "code",
   "execution_count": 2,
   "metadata": {},
   "outputs": [],
   "source": [
    "# It is possible to declare functions which receive a variable number of arguments, using the following syntax:\n",
    "# 関数が可変個の引数を受け取ることもできます。その場合は、以下のように書きます\n",
    "\n",
    "def foo(first, second, third, *therest):\n",
    "    print(\"First: %s\" % first)\n",
    "    print(\"Second: %s\" % second)\n",
    "    print(\"Third: %s\" % third)\n",
    "    print(\"And all the rest... %s\" % list(therest))"
   ]
  },
  {
   "cell_type": "code",
   "execution_count": null,
   "metadata": {},
   "outputs": [],
   "source": [
    "# The \"therest\" variable is a list of variables, \n",
    "# which receives all arguments which were given to the \"foo\" function after the first 3 arguments.\n",
    "# So calling foo(1, 2, 3, 4, 5) will print out:\n",
    "\n",
    "# \"therest\"はvariable(変数)のリストで、\"foo\"関数に最初の3つの引数の後に与えられたすべての引数を受け取ります。\n",
    "# つまり、foo(1, 2, 3, 4, 5)と呼び出すと、以下のように出力されます。\n",
    "\n",
    "def foo(first, second, third, *therest):\n",
    "    print(\"First: %s\" %(first))\n",
    "    print(\"Second: %s\" %(second))\n",
    "    print(\"Third: %s\" %(third))\n",
    "    print(\"And all the rest... %s\" %(list(therest)))\n",
    "\n",
    "foo(1, 2, 3, 4, 5)\n",
    "\n",
    "#以下が出力される\n",
    "#First: 1\n",
    "#Second: 2\n",
    "#Third: 3\n",
    "#And all the rest... [4, 5]"
   ]
  },
  {
   "cell_type": "code",
   "execution_count": null,
   "metadata": {},
   "outputs": [],
   "source": [
    "# It is also possible to send functions arguments by keyword, \n",
    "# so that the order of the argument does not matter, using the following syntax.\n",
    "# The following code yields the following output: The sum is: 6 Result: 1\n",
    "\n",
    "# functions(関数)にキーワード引数を送ることもできます。\n",
    "# これにより、argument(引数)の順序は重要ではなくなります。以下のコードは、The sum is: 6 Result: 1という出力を生成します。\n",
    "\n",
    "def bar(first, second, third, **options):#barという関数を定義する、bar関数は関数はfirst, second, thirdを受け取る\n",
    "    if options.get(\"action\") == \"sum\":#options辞書に\"action\"というキーが存在するかどうかを確認している\n",
    "        print(\"The sum is: %d\" %(first + second + third))#もし\"action\"キーが存在し、その値が\"sum\"と等しい場合printが実行される\n",
    "\n",
    "    if options.get(\"number\") == \"first\": #options辞書に\"number\"というキーが存在するかどうかを確認\n",
    "        return first #\"number\"キーが存在し、その値が\"first\"と等しい場合,この行が実行される\n",
    "\n",
    "result = bar(1, 2, 3, action = \"sum\", number = \"first\")#bar関数を呼び出し,引数として、1, 2, 3を渡している\n",
    "print(\"Result: %d\" %(result))\n",
    "\n",
    "#以下が出力される\n",
    "#The sum is: 6\n",
    "#Result: 1\n",
    "#The sum is: 6\n",
    "#Result: 1"
   ]
  },
  {
   "cell_type": "code",
   "execution_count": null,
   "metadata": {},
   "outputs": [],
   "source": [
    "#**options という使い方を初めてみたので、調べます\n",
    "#**optionsは特別な引数で、キーワード引数を辞書として受け取ります\n",
    "\n",
    "#Odaさん　一応、引数を特殊にしているのは\n",
    "def foo(**bar):#の**の部分です"
   ]
  },
  {
   "cell_type": "code",
   "execution_count": null,
   "metadata": {},
   "outputs": [],
   "source": [
    "# **bar関数はキーワード引数を使って、関数の動作を柔軟に制御することができる\n",
    "# actionとnumberの値に応じて、異なる処理が行われる"
   ]
  },
  {
   "cell_type": "code",
   "execution_count": null,
   "metadata": {},
   "outputs": [],
   "source": [
    "# The \"bar\" function receives 3 arguments. \n",
    "# If an additional \"action\" argument is received, and it instructs on summing up the numbers, then the sum is printed out. \n",
    "# Alternatively, the function also knows it must return the first argument, \n",
    "# if the value of the \"number\" parameter, passed into the function, is equal to \"first\".\n",
    "\n",
    "#  \"bar\"関数は3つの引数を受け取ります。もし追加で\"action\"引数が渡され、それが数値の合計を求める指示である場合は、合計値が出力されます。\n",
    "#  あるいは、関数に渡された\"number\"パラメータの値が\"first\"と等しい場合、関数は最初の引数を返すことが期待されています。"
   ]
  },
  {
   "cell_type": "code",
   "execution_count": null,
   "metadata": {},
   "outputs": [],
   "source": [
    "#Odaさん\n",
    "# まず、関数って、なんなんでしょう。\n",
    "# まあ、プログラムって、機械に対しての命令であると同時に、人間に対して、どのような命令を出しているかを伝えているものです。\n",
    "# だから、通常、「誰かが、なんらかの意図を持って、こういうふうな道具にしてあげたら嬉しいだろう、とエンジニアリングされているもの」です。\n",
    "# それで、色々な使い方をするわけですが、\n",
    "\n",
    "a = dict(one=1, two=2, three=3)\n",
    "\n",
    "# みたいなものが作りたいなと思ったとしましょう。\n",
    "https://docs.python.org/3.12/library/stdtypes.html#dict\n",
    "\n",
    "# 今回の話は、このように引数が自由に変わる関数を作れるようにする仕組みです。"
   ]
  },
  {
   "cell_type": "code",
   "execution_count": null,
   "metadata": {},
   "outputs": [],
   "source": [
    "#さきほどのコードでは、\n",
    "\n",
    "def bar(first, second, third, **options):\n",
    "if options.get(\"action\") == \"sum\":\n",
    "\n",
    "\n",
    "#ここの部分がセットになっていて、 \n",
    "#**if options.get　の行でdef bar(first, second, third, **options):#に optionsがあったら数字を足す、という指示を出して関数の動作を制御している？と理解しました"
   ]
  },
  {
   "cell_type": "code",
   "execution_count": null,
   "metadata": {},
   "outputs": [],
   "source": [
    "# Exercise\n",
    "# Fill in the foo and bar functions so they can receive a variable amount of arguments (3 or more) \n",
    "# The foo function must return the amount of extra arguments received. \n",
    "# The bar must return True if the argument with the keyword magicnumber is worth 7, and False otherwise.\n",
    "\n",
    "# edit the functions prototype and implementation\n",
    "def foo(a, b, c):\n",
    "    pass\n",
    "\n",
    "def bar(a, b, c):\n",
    "    pass\n",
    "\n",
    "# test code\n",
    "if foo(1, 2, 3, 4) == 1:\n",
    "    print(\"Good.\")\n",
    "if foo(1, 2, 3, 4, 5) == 2:\n",
    "    print(\"Better.\")\n",
    "if bar(1, 2, 3, magicnumber=6) == False:\n",
    "    print(\"Great.\")\n",
    "if bar(1, 2, 3, magicnumber=7) == True:\n",
    "    print(\"Awesome!\")"
   ]
  },
  {
   "cell_type": "code",
   "execution_count": null,
   "metadata": {},
   "outputs": [],
   "source": [
    "#  foo と bar 関数の中身を入れて、３以上の引数を受け取ることができます。 foo関数は追加の引数を返さないといけません。\n",
    "# barは　もしmagicnumber引数が 7に値する場合　True を返し、そうでなければ Falseを返します"
   ]
  },
  {
   "cell_type": "code",
   "execution_count": null,
   "metadata": {},
   "outputs": [],
   "source": [
    "#これは今日習った \n",
    "def foo(**bar):\n",
    " #や \n",
    "#def bar(first, second, third, **options):\n",
    " #のような使い方を 当てはめると思います\n",
    "#def foo(a,b,c, **args)???\n",
    "#The bar must return True if the argument with the keyword magicnumber is worth 7, and False otherwise.\n",
    "#ここの部分が考えてもわからなかったので答えを見ました"
   ]
  },
  {
   "cell_type": "code",
   "execution_count": null,
   "metadata": {},
   "outputs": [],
   "source": [
    "def foo(a, b, c, *args):  #a, b, c以外の追加の引数を受け取る\n",
    "    return len(args)#追加の引数の値を返す\n",
    "\n",
    "def bar(a, b, c, **kwargs):#**kwargsを使って、キーワード引数を辞書として受け取る\n",
    "    return kwargs.get(\"magicnumber\") == 7#kwargs.get(\"magicnumber\")を使って、magicnumberの値を取得する\n",
    "\n",
    "# test code\n",
    "if foo(1, 2, 3, 4) == 1:\n",
    "    print(\"Good.\")\n",
    "if foo(1, 2, 3, 4, 5) == 2:\n",
    "    print(\"Better.\")\n",
    "if bar(1, 2, 3, magicnumber=6) == False:\n",
    "    print(\"Great.\")\n",
    "if bar(1, 2, 3, magicnumber=7) == True:\n",
    "    print(\"Awesome!\")"
   ]
  },
  {
   "cell_type": "code",
   "execution_count": null,
   "metadata": {},
   "outputs": [],
   "source": [
    "# *args　と　**kwargs　が出てきたので、これを見ました\n",
    "#https://qiita.com/ys_dirard/items/6009405b93c5c6ad335d\n",
    "\n",
    "#https://note.nkmk.me/en/python-args-kwargs-usage/ \n"
   ]
  }
 ],
 "metadata": {
  "kernelspec": {
   "display_name": "Python 3",
   "language": "python",
   "name": "python3"
  },
  "language_info": {
   "codemirror_mode": {
    "name": "ipython",
    "version": 3
   },
   "file_extension": ".py",
   "mimetype": "text/x-python",
   "name": "python",
   "nbconvert_exporter": "python",
   "pygments_lexer": "ipython3",
   "version": "3.12.0"
  }
 },
 "nbformat": 4,
 "nbformat_minor": 2
}
