{
 "cells": [
  {
   "cell_type": "code",
   "execution_count": null,
   "metadata": {},
   "outputs": [],
   "source": [
    "# Regular Expressions：正規表現\n",
    "# Regular Expressions (sometimes shortened to regexp, regex, or re) are a tool for matching patterns in text. \n",
    "# In Python, we have the re module. The applications for regular expressions are wide-spread, but they are fairly complex, \n",
    "# so when contemplating using a regex for a certain task, think about alternatives, and come to regexes as a last resort.\n",
    "\n",
    "# 正規表現(regexp. regex または re と省略されます)はテキストの中のパターンをマッチさせるツールです。\n",
    "# Pythonでは、 reモジュールを使います。正規表現の方法は多岐に渡りますが、とても複雑なので特定のタスクに正規表現を使いたいと思った時は代替案を考え、\n",
    "# 最後の手段として正規表現に頼るようにしましょう。"
   ]
  },
  {
   "cell_type": "code",
   "execution_count": null,
   "metadata": {},
   "outputs": [],
   "source": [
    "# An example regex is r\"^(From|To|Cc).*?python-list@python.org\" \n",
    "# Now for an explanation: the caret ^ matches text at the beginning of a line. The following group, \n",
    "# the part with (From|To|Cc) means that the line has to start with one of the words that are separated by the pipe |. \n",
    "# That is called the OR operator, and the regex will match if the line starts with any of the words in the group.\n",
    "# The .*? means to un-greedily match any number of characters, except the newline \\n character. \n",
    "# The un-greedy part means to match as few repetitions as possible. The . character means any non-newline character, \n",
    "# the * means to repeat 0 or more times, and the ? character makes it un-greedy.\n",
    "\n",
    "# So, the following lines would be matched by that regex: From: python-list@python.org To: !asp]<,. python-list@python.org\n",
    "\n",
    "# 正規表現の例として、r\"^(From|To|Cc).*?python-list@python.org\" があります。\n",
    "# 説明すると：キャレット ^ が1番最初のテキストにマッチします。\n",
    "# 次のグループ (From|To|Cc) の部分は、行がこれらの単語のいずれかで始まる必要があることを意味します。\n",
    "# これはOR演算子と呼ばれ、グループ内の単語のいずれかで行が始まる場合に正規表現がマッチします。\n",
    "# .*? は、改行文字 \\n を除く任意の文字を最小限にマッチさせることを意味します。最小限というのは、できるだけ少ない繰り返しにマッチさせるということです。\n",
    "# . は任意の非改行文字を意味し、* は0回以上の繰り返しを意味し、? は最小限にすることを意味します。\n",
    "\n",
    "# したがって、次の行はその正規表現にマッチします。\n",
    "From: python-list@python.org\n",
    "To: !asp]<,. python-list@python.org"
   ]
  },
  {
   "cell_type": "code",
   "execution_count": null,
   "metadata": {},
   "outputs": [],
   "source": [
    "# A complete reference for the re syntax is available at the python docs.\n",
    "# reシンタックスの完全なリファレンスは、Pythonのドキュメントで利用可能です。\n",
    "\n",
    "https://docs.python.org/3/library/re.html#regular-expression-syntax\"RE%20syntax\n",
    "\n",
    "# As an example of a \"proper\" email-matching regex (like the one in the exercise), see this\n",
    "# （演習で使用されているような）\"適切な\"メールアドレスにマッチする正規表現の例については、こちらをご覧ください。\n",
    "\n",
    "https://pdw.ex-parrot.com/Mail-RFC822-Address.html"
   ]
  },
  {
   "cell_type": "code",
   "execution_count": null,
   "metadata": {},
   "outputs": [],
   "source": [
    "# Example: 　正規表現を使って文字列からパターンを検索する\n",
    "import re #re モジュールをインポートしている\n",
    "pattern = re.compile(r\"\\[(on|off)\\]\")  # 文字列内の [on] または [off] を探す\n",
    "print(re.search(pattern, \"Mono: Playback 65 [75%] [-16.50dB] [on]\")) #re.search() 関数を使ってpatternを検索\n",
    "# 最初の文字列には [on] が含まれているので、re.search() はマッチオブジェクトを返します。\n",
    "print(re.search(pattern, \"Nada...:-(\"))\n",
    "# この文字列にはパターンにマッチする部分がないので、re.search() は何も返しません。\n",
    "# End Example"
   ]
  },
  {
   "cell_type": "code",
   "execution_count": null,
   "metadata": {},
   "outputs": [],
   "source": [
    "# Exercise: make a regular expression that will match an email\n",
    "def test_email(your_pattern):\n",
    "    pattern = re.compile(your_pattern)\n",
    "    emails = [\"john@example.com\", \"python-list@python.org\", \"wha.t.`1an?ug{}ly@email.com\"]\n",
    "    for email in emails:\n",
    "        if not re.match(pattern, email):\n",
    "            print(\"You failed to match %s\" % (email))\n",
    "        elif not your_pattern:\n",
    "            print(\"Forgot to enter a pattern!\")\n",
    "        else:\n",
    "            print(\"Pass\")\n",
    "pattern = r\"\" # Your pattern here!\n",
    "test_email(pattern)"
   ]
  },
  {
   "cell_type": "code",
   "execution_count": null,
   "metadata": {},
   "outputs": [],
   "source": [
    "# 問題：emailにマッチする正規表現を作りましょう\n",
    "# import re をして正規表現を使えるようにして、\n",
    "# re.compileで探したい文字列を定義するところまでは理解できたと思うのですが、\n",
    "\n",
    "pattern = r\"\" # Your pattern here!　ここからどうしたらいいのかわからないので答えを見ます"
   ]
  },
  {
   "cell_type": "code",
   "execution_count": null,
   "metadata": {},
   "outputs": [],
   "source": [
    "pattern = r\"\\\"?([-a-zA-Z0-9.`?{}]+@\\w+\\.\\w+)\\\"?\"\n",
    "\n",
    "#こういうのもいけました\n",
    "\n",
    "pattern = r\"\\\"?([[A-Za-z0-9]+@[A-Za-z0-9]+\\.[A-Z|a-z]\""
   ]
  },
  {
   "cell_type": "code",
   "execution_count": 2,
   "metadata": {},
   "outputs": [],
   "source": [
    "#Odaさんコメント\n",
    "# 正規表現というのは、かなり数学的な背景があります。\n",
    "# 文字列から毎日一文字ずつが、川を流れてくるとします。\n",
    "# そして、あなたの部隊はその側の見張り小屋から監視し、文字列が全部流れきったときに、\n",
    "# 流れた文字列が「なんらかの条件」を満たしているかを判定するというミッションが与えられました。\n",
    "\n",
    "# もちろん、流れてくる文字をすべて写してもいいという条件だったら、どういう条件でもできそうですが、\n",
    "# ここで、「見張り小屋の引き継ぎ資料のサイズをあらかじめ決めないといけない」という制約をつけます。\n",
    "# だから長さの分からない文字列を書き写せません。このときにできることが正規表現で表現できるものになります。\n",
    "\n",
    "# たとえば、流れてきた a の数と b の数が同じか、という問題は解けません。\n",
    "# なぜならば、a の数を数えようと思うと、10進法で書くとしても引き継ぎ資料に何桁用意したらいいか分からないからです。\n",
    "\n",
    "# でも、メールアドレスっぽいかを確認するなどはできます。\n",
    "# まあ、そういう理論的な背景はともかく、結構色々な問題を解くのに便利なので、多くの言語に標準機能として入っています。"
   ]
  }
 ],
 "metadata": {
  "kernelspec": {
   "display_name": "Python 3",
   "language": "python",
   "name": "python3"
  },
  "language_info": {
   "codemirror_mode": {
    "name": "ipython",
    "version": 3
   },
   "file_extension": ".py",
   "mimetype": "text/x-python",
   "name": "python",
   "nbconvert_exporter": "python",
   "pygments_lexer": "ipython3",
   "version": "3.12.0"
  }
 },
 "nbformat": 4,
 "nbformat_minor": 2
}
