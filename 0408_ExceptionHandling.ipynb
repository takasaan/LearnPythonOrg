{
 "cells": [
  {
   "cell_type": "code",
   "execution_count": null,
   "metadata": {},
   "outputs": [],
   "source": [
    "# Exception Handling:　例外処理\n",
    "# When programming, errors happen. It's just a fact of life.\n",
    "# Perhaps the user gave bad input. Maybe a network resource was unavailable. \n",
    "# Maybe the program ran out of memory. Or the programmer may have even made a mistake!\n",
    "\n",
    "# Python's solution to errors are exceptions. You might have seen an exception before.\n",
    "# `Oops! Forgot to assign a value to the 'a' variable.\n",
    "\n",
    "# プログラミングをしていると、必ずエラーが起きますよね。\n",
    "# おそらくユーザーが不適切な入力をしたとか、ネットワークリソースが利用できなかったとか、メモリ不足になったとか、はたまたプログラマーのミスかもしれません。\n",
    "\n",
    "# Pythonではエラーに対処するためにexceptionsを使います。\n",
    "# 例えば以下のように、変数aが定義されていないためにNameErrorが発生します。\n",
    "\n",
    "print(a)\n",
    "\n",
    "#error\n",
    "Traceback (most recent call last):\n",
    "  File \"\", line 1, in \n",
    "NameError: name 'a' is not defined"
   ]
  },
  {
   "cell_type": "code",
   "execution_count": null,
   "metadata": {},
   "outputs": [],
   "source": [
    "# But sometimes you don't want exceptions to completely stop the program. \n",
    "# You might want to do something special when an exception is raised. This is done in a try/except block.\n",
    "\n",
    "# Here's a trivial example: Suppose you're iterating over a list. \n",
    "# You need to iterate over 20 numbers, but the list is made from user input, and might not have 20 numbers in it. \n",
    "# After you reach the end of the list, you just want the rest of the numbers to be interpreted as a 0. \n",
    "# Here's how you could do that:\n",
    "\n",
    "# でも、exceptionで完全にプログラムを停止させたくない場合があります。\n",
    "# try/exceptブロックを使うことで、例外が発生した時に特別な処理をすることができます。\n",
    "\n",
    "# 例えば、リストを反復処理する場合を考えましょう。\n",
    "# 20個以上の数値を処理する必要がありますが、リストはユーザー入力から作成されているため、20個の要素がない可能性があります。\n",
    "# リストの1番最後に到達したら、残りの数値を全て0として扱いたい場合があります。なので以下のようにすることができます:\n",
    "\n",
    "def do_stuff_with_number(n): #do_stuff_with_number関数を定義して、引数nをプリントする\n",
    "    print(n)\n",
    "\n",
    "def catch_this():#catch_this関数を定義している\n",
    "    the_list = (1, 2, 3, 4, 5) #the_list変数には、1,2,3,4,5の要素？数字？が入っている()で囲まれているので、タプルと呼ぶ\n",
    "\n",
    "    for i in range(20):#for文で i に0-20の数を入れていく\n",
    "        try:\n",
    "            do_stuff_with_number(the_list[i])\n",
    "        except IndexError: # Raised when accessing a non-existing index of a list\n",
    "            do_stuff_with_number(0)\n",
    "\n",
    "catch_this()\n",
    "\n",
    "#出力結果は the_list = (1, 2, 3, 4, 5) この要素が全部出たらあとは20回になるまで０を繰り返して出力される"
   ]
  },
  {
   "cell_type": "code",
   "execution_count": null,
   "metadata": {},
   "outputs": [],
   "source": [
    "#ここで何が起こっているか？\n",
    "for i in range(20):\n",
    "        try:#tryブロックとなる\n",
    "            do_stuff_with_number(the_list[i]) #最初定義したdo_stuff_with_numberにthe_listの012345の要素が入れられる\n",
    "        except IndexError: # リストの要素数を超えてアクセスしようとした時、IndexErrorになって、\n",
    "            do_stuff_with_number(0) #0を引数として渡す\n",
    "\n",
    "catch_this()#catch_this関数を呼び出して、例外処理を実行する"
   ]
  },
  {
   "cell_type": "code",
   "execution_count": null,
   "metadata": {},
   "outputs": [],
   "source": [
    "# There, that wasn't too hard! You can do that with any exception. For more details on handling exceptions, \n",
    "# look no further than the Python Docs\n",
    "# はい、そんなに大変じゃなかったでしょ！例外処理はどんなものにも使えます。\n",
    "# もっと詳しく知りたい場合はこちら：https://docs.python.org/ja/3/tutorial/errors.html#handling-exceptions"
   ]
  },
  {
   "cell_type": "code",
   "execution_count": null,
   "metadata": {},
   "outputs": [],
   "source": [
    "# Exercise\n",
    "# Handle all the exception! Think back to the previous lessons to return the last name of the actor.\n",
    "\n",
    "# Setup\n",
    "actor = {\"name\": \"John Cleese\", \"rank\": \"awesome\"}\n",
    "\n",
    "# Function to modify!!!\n",
    "def get_last_name(): \n",
    "    return actor[\"last_name\"]\n",
    "\n",
    "# Test code\n",
    "get_last_name()\n",
    "print(\"All exceptions caught! Good job!\")\n",
    "print(\"The actor's last name is %s\" % get_last_name())"
   ]
  },
  {
   "cell_type": "code",
   "execution_count": null,
   "metadata": {},
   "outputs": [],
   "source": [
    "# 今日のエクササイズの問題を読みます。\n",
    "# すべての例外を処理しましょう。前回までのレッスンを思い出して、俳優のラストネームを返すようにしましょう。\n",
    "# これはまずactor = {\"name\": \"John Cleese\", \"rank\": \"awesome\"} ここが辞書になっていると思います\n",
    "# Function to modify!!!  なのでこの関数のところに exceptを入れてどうにかするという問題だと思います\n",
    "def get_last_name(): \n",
    "    return actor[\"last_name\"]"
   ]
  },
  {
   "cell_type": "code",
   "execution_count": null,
   "metadata": {},
   "outputs": [],
   "source": [
    "actor = {\"name\": \"John Cleese\", \"rank\": \"awesome\"}  #ここから last nameだけ取り出す方法からわからないので、答えを見ます#"
   ]
  },
  {
   "cell_type": "code",
   "execution_count": null,
   "metadata": {},
   "outputs": [],
   "source": [
    "#答え\n",
    "actor = {\"name\": \"John Cleese\", \"rank\": \"awesome\"}\n",
    "\n",
    "def get_last_name():\n",
    "    return actor[\"name\"].split()[1]\n",
    "\n",
    "get_last_name()\n",
    "print(\"All exceptions caught! Good job!\")\n",
    "print(\"The actor's last name is %s\" % get_last_name())\n",
    "\n",
    "#練習問題のようにtryとexcept を使うのかなと思ったのですが、違いました"
   ]
  },
  {
   "cell_type": "code",
   "execution_count": null,
   "metadata": {},
   "outputs": [],
   "source": [
    "# メモ：\n",
    "# ここで何が起こっているか？\n",
    "return actor[\"name\"].split()[1]\n",
    "\n",
    "actor = {\"name\": \"John Cleese\", \"rank\": \"awesome\"} #という辞書があるとき、actor[\"name\"] は \"John Cleese\" という文字列を返す\n",
    "\n",
    "#actor[\"name\"].split() は [\"John\", \"Cleese\"] #というリストを返す\n",
    "\n",
    "actor[\"name\"].split()[1] #は、このリストのインデックス 1 の要素、\"Cleese\"を取得しています。\n",
    "# リストのインデックスは 0 から始まるため、インデックス 1 は2番目の要素を指します。\n",
    "actor[\"name\"].split()[1] #そのため、このコードは \"Cleese\" という文字列を返します。"
   ]
  }
 ],
 "metadata": {
  "kernelspec": {
   "display_name": "Python 3",
   "language": "python",
   "name": "python3"
  },
  "language_info": {
   "codemirror_mode": {
    "name": "ipython",
    "version": 3
   },
   "file_extension": ".py",
   "mimetype": "text/x-python",
   "name": "python",
   "nbconvert_exporter": "python",
   "pygments_lexer": "ipython3",
   "version": "3.12.0"
  }
 },
 "nbformat": 4,
 "nbformat_minor": 2
}
