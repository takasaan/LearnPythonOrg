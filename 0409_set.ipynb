{
 "cells": [
  {
   "cell_type": "code",
   "execution_count": null,
   "metadata": {},
   "outputs": [],
   "source": [
    "# Sets : セット\n",
    "# Sets are lists with no duplicate entries. \n",
    "# Let's say you want to collect a list of words used in a paragraph:\n",
    "\n",
    "# セットは重複しないentriesのリストです。\n",
    "# 例えばある文章から単語のリストを集めたいとしましょう\n",
    "\n",
    "print(set(\"my name is Eric and Eric is my name\".split())) \n",
    "\n",
    "\n",
    "# This will print out a list containing \"my\", \"name\", \"is\", \"Eric\". \n",
    "# Since the rest of the sentence uses words which are already in the set, they are not inserted twice.\n",
    "\n",
    "# Sets are a powerful tool in Python since they have the ability to calculate differences and intersections between other sets. \n",
    "# For example, say you have a list of participants in events A and B:\n",
    "\n",
    "# これは \"my\", \"name\", \"is\", \"Eric\"　を含むリストを出力します。全ての言葉は set リスト内にあり、2個同じ言葉は入っていません。"
   ]
  },
  {
   "cell_type": "code",
   "execution_count": null,
   "metadata": {},
   "outputs": [],
   "source": [
    "# セットはpython上とても強力なツールで,別のセット間での差分や共通部分を計算する機能を持っています。\n",
    "# 例えば、イベントAとBの参加者のリストがあるとします：\n",
    "\n",
    "a = set([\"Jake\", \"John\", \"Eric\"])\n",
    "print(a)\n",
    "b = set([\"John\", \"Jill\"])\n",
    "print(b)\n",
    "\n",
    "#以下が出力される\n",
    "{'John', 'Jake', 'Eric'}\n",
    "{'John', 'Jill'}\n"
   ]
  },
  {
   "cell_type": "code",
   "execution_count": null,
   "metadata": {},
   "outputs": [],
   "source": [
    "# To find out which members attended both events, you may use the \"intersection\" method:\n",
    "# A and B 両方のイベントに参加したメンバーを見つけるには、\"intersection\"メソッドを使用します：\n",
    "\n",
    "a = set([\"Jake\", \"John\", \"Eric\"])\n",
    "b = set([\"John\", \"Jill\"])\n",
    "\n",
    "print(a.intersection(b))\n",
    "print(b.intersection(a))\n",
    "\n",
    "#以下が出力される\n",
    "{'John'}\n",
    "{'John'}"
   ]
  },
  {
   "cell_type": "code",
   "execution_count": null,
   "metadata": {},
   "outputs": [],
   "source": [
    "# To find out which members attended only one of the events, use the \"symmetric_difference\" method:\n",
    "# A or B どちらか一方のイベントにのみ参加したメンバーを見つけるには、\"symmetric_difference\"メソッドを使用します：\n",
    "\n",
    "a = set([\"Jake\", \"John\", \"Eric\"])\n",
    "b = set([\"John\", \"Jill\"])\n",
    "print(a.symmetric_difference(b))\n",
    "print(b.symmetric_difference(a))\n",
    "\n",
    "#以下が出力される\n",
    "{'Eric', 'Jake', 'Jill'}\n",
    "{'Jill', 'Jake', 'Eric'}"
   ]
  },
  {
   "cell_type": "code",
   "execution_count": null,
   "metadata": {},
   "outputs": [],
   "source": [
    "# To find out which members attended only one event and not the other, use the \"difference\" method:\n",
    "# A一方のイベントには参加したがもう一方のイベントには参加しなかったメンバーを見つけるには、\"difference\"メソッドを使用します：\n",
    "\n",
    "a = set([\"Jake\", \"John\", \"Eric\"]) \n",
    "b = set([\"John\", \"Jill\"])\n",
    "\n",
    "print(a.difference(b))#Aには出席したが、Bには出ていない\n",
    "print(b.difference(a))  #Bには出席したが、Aには出ていない\n",
    "\n",
    "#以下が出力される\n",
    "{'Eric', 'Jake'}#Aには出席したが、Bには出ていない\n",
    "{'Jill'}#Bには出席したが、Aには出ていない"
   ]
  },
  {
   "cell_type": "code",
   "execution_count": null,
   "metadata": {},
   "outputs": [],
   "source": [
    "# To receive a list of all participants, use the \"union\" method:\n",
    "# 全参加者のリストを取得するには、\"union\"メソッドを使用します：\n",
    "\n",
    "a = set([\"Jake\", \"John\", \"Eric\"])\n",
    "b = set([\"John\", \"Jill\"])\n",
    "\n",
    "print(a.union(b))"
   ]
  },
  {
   "cell_type": "code",
   "execution_count": null,
   "metadata": {},
   "outputs": [],
   "source": [
    "#In the exercise below, use the given lists to print out a set containing all the participants from event A which did not attend event B.\n",
    "#与えられたリストの中で イベントAに出席したが、イベントBに出席しなかった全ての出席者を出力してください\n",
    "\n",
    "a = [\"Jake\", \"John\", \"Eric\"]\n",
    "b = [\"John\", \"Jill\"]"
   ]
  },
  {
   "cell_type": "code",
   "execution_count": null,
   "metadata": {},
   "outputs": [],
   "source": [
    "# 一方のイベントには参加したが、もう一方のイベントには参加しなかったメンバーを見つけるので、\n",
    "# difference　メソッドを使う？\n",
    "# イベントAに出席して、イベントBに出席しなかった \"Jake\",  \"Eric\" を出力したいです\n",
    "#そういえば問題文は練習問題のようにsetメソッドになっていないことに気づいたので、直します。"
   ]
  },
  {
   "cell_type": "code",
   "execution_count": null,
   "metadata": {},
   "outputs": [],
   "source": [
    "a = [\"Jake\", \"John\", \"Eric\"]\n",
    "b = [\"John\", \"Jill\"]\n",
    "\n",
    "a = set([\"jake, \"John\", \"Eric\"])\n",
    "b = set([\"john\", \"Jill\"])\n",
    "\n",
    "print(a.difference(b))\n",
    "\n",
    "#これでsubmitしてみます\n",
    "#syntax errorが出たのでline 4を直します"
   ]
  },
  {
   "cell_type": "code",
   "execution_count": null,
   "metadata": {},
   "outputs": [],
   "source": [
    "a = [\"Jake\", \"John\", \"Eric\"]\n",
    "b = [\"John\", \"Jill\"]\n",
    "\n",
    "a = set([\"jake\", \"John\", \"Eric\"])\n",
    "b = set([\"john\", \"Jill\"])\n",
    "\n",
    "print(a.difference(b))"
   ]
  },
  {
   "cell_type": "code",
   "execution_count": null,
   "metadata": {},
   "outputs": [],
   "source": [
    "#Odaさんのコメント\n",
    "# このコード色がついていますね。色の付き方が思ったものと違うとなにか間違っている事が多いと思います。気にしてみてください。\n"
   ]
  }
 ],
 "metadata": {
  "kernelspec": {
   "display_name": "Python 3",
   "language": "python",
   "name": "python3"
  },
  "language_info": {
   "codemirror_mode": {
    "name": "ipython",
    "version": 3
   },
   "file_extension": ".py",
   "mimetype": "text/x-python",
   "name": "python",
   "nbconvert_exporter": "python",
   "pygments_lexer": "ipython3",
   "version": "3.12.0"
  }
 },
 "nbformat": 4,
 "nbformat_minor": 2
}
