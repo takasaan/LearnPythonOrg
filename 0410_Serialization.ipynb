{
 "cells": [
  {
   "cell_type": "code",
   "execution_count": null,
   "metadata": {},
   "outputs": [],
   "source": [
    "# Serialization：シリアライズ\n",
    "# Python provides built-in JSON libraries to encode and decode JSON.\n",
    "\n",
    "# In Python 2.5, the simplejson module is used, whereas in Python 2.7, the json module is used. Since this interpreter uses Python 2.7, we'll be using json.\n",
    "# In order to use the json module, it must first be imported:\n",
    "\n",
    "# Pythonは、JSONをエンコードおよびデコードするための組み込みのJSONライブラリを提供しています。\n",
    "\n",
    "# Python 2.5では、simplejsonモジュールが使われますが、Python 2.7ではjsonモジュールが使われます。\n",
    "# このインタープリタはPython 2.7を使用しているため、jsonを使用します。\n",
    "\n",
    "# jsonモジュールを使用するには、まずインポートする必要があります： \n",
    "\n",
    "import json"
   ]
  },
  {
   "cell_type": "code",
   "execution_count": null,
   "metadata": {},
   "outputs": [],
   "source": [
    "# There are two basic formats for JSON data. Either in a string or the object datastructure. \n",
    "# The object datastructure, in Python, consists of lists and dictionaries nested inside each other. \n",
    "# The object datastructure allows one to use python methods (for lists and dictionaries) to add, list, search and remove elements from the datastructure. \n",
    "# The String format is mainly used to pass the data into another program or load into a datastructure.\n",
    "# To load JSON back to a data structure, use the \"loads\" method. This method takes a string and turns it back into the json object datastructure:\n",
    "\n",
    "# JSONデータには2つの基本フォーマットがあります。\n",
    "# 文字列とObject datastructure(オブジェクトデータ構造形式)です。\n",
    "# PythonにおけるObject datastructure(オブジェクトデータ構造)は、リストと辞書がお互いにネストされたものです。\n",
    "\n",
    "# オブジェクトデータ構造を使用すると、Pythonのメソッド（リストと辞書用）を使用してデータ構造に要素を追加、一覧表示、検索、削除することができます。\n",
    "# 文字列形式は主に、データを別のプログラムに渡したり、データ構造にロードしたりするために使用されます。\n",
    "\n",
    "# JSONをデータ構造に戻してロードするには、\"loads\"メソッドを使用します。\n",
    "# このメソッドは文字列を受け取り、それをJSONオブジェクトのデータ構造に戻します：\n",
    "\n",
    "\n",
    "import json \n",
    "print(json.loads(json_string))"
   ]
  },
  {
   "cell_type": "code",
   "execution_count": null,
   "metadata": {},
   "outputs": [],
   "source": [
    "# To encode a data structure to JSON, use the \"dumps\" method. This method takes an object and returns a String:\n",
    "\n",
    "# data structureをJSONにエンコードするために、\"dumps\" メソッドを使います。\n",
    "# このメソッドはObjectを受け取り、 文字列を返します。 \n",
    "\n",
    "import json #jsonをインポートしている\n",
    "json_string = json.dumps([1, 2, 3, \"a\", \"b\", \"c\"]) #json.dumpsを使って\n",
    "print(json_string)\n",
    "\n",
    "#[1, 2, 3, \"a\", \"b\", \"c\"] が出力される"
   ]
  },
  {
   "cell_type": "code",
   "execution_count": null,
   "metadata": {},
   "outputs": [],
   "source": [
    "# Python supports a Python proprietary data serialization method called pickle (and a faster alternative called cPickle).\n",
    "# You can use it exactly the same way.\n",
    "# Pythonはpickle（およびより高速な代替としてcPickle）と呼ばれるPython独自のデータシリアライゼーション方法をサポートしていて、全く同じ方法で使用できます。\n",
    "\n",
    "import pickle #上のコードと同じ使い方ができている\n",
    "pickled_string = pickle.dumps([1, 2, 3, \"a\", \"b\", \"c\"])\n",
    "print(pickle.loads(pickled_string))"
   ]
  },
  {
   "cell_type": "code",
   "execution_count": null,
   "metadata": {},
   "outputs": [],
   "source": [
    "#エクササイズ\n",
    "# The aim of this exercise is to print out the JSON string with key-value pair \"Me\" : 800 added to it.\n",
    "# このエクササイズの目的は、キーと値のペア\"Me\"：800を追加したJSONの文字列を出力することです。\n",
    "\n",
    "import json\n",
    "\n",
    "# fix this function, so it adds the given name\n",
    "# and salary pair to salaries_json, and return it\n",
    "def add_employee(salaries_json, name, salary):\n",
    "    # Add your code here\n",
    "\n",
    "    return salaries_json\n",
    "\n",
    "# test code\n",
    "salaries = '{\"Alfred\" : 300, \"Jane\" : 400 }'\n",
    "new_salaries = add_employee(salaries, \"Me\", 800)\n",
    "decoded_salaries = json.loads(new_salaries)\n",
    "print(decoded_salaries[\"Alfred\"])\n",
    "print(decoded_salaries[\"Jane\"])\n",
    "print(decoded_salaries[\"Me\"])"
   ]
  },
  {
   "cell_type": "code",
   "execution_count": null,
   "metadata": {},
   "outputs": [],
   "source": [
    "# あっという間にエクササイズに来てしまいました。\n",
    "# 考えます\n",
    "# キーと値のペア\"Me\"：800を追加したJSONの文字列を出力することなので、\n",
    "# append() が使える？\n",
    "\n",
    "# test code　をみると、 ここに追加したい要素が入っている\n",
    "new_salaries = add_employee(salaries, \"Me\", 800)"
   ]
  },
  {
   "cell_type": "code",
   "execution_count": null,
   "metadata": {},
   "outputs": [],
   "source": [
    "# fix this function, so it adds the given name この関数を修正すると、与えられた名前を追加できる。\n",
    "# and salary pair to salaries_json, and return it # salary は salaries_jason とペアになって、それを返す\n",
    "def add_employee(salaries_json, name, salary):\n",
    "    # Add your code here"
   ]
  },
  {
   "cell_type": "code",
   "execution_count": null,
   "metadata": {},
   "outputs": [],
   "source": [
    "#Odaさんのコメント\n",
    "# serialize (直列化)のモチベーションが分からないと難しいかもしれませんね。\n",
    "# プログラムは一般にデータを扱うことが多いのですが、プログラムが終了したら、プログラム内のデータはなくなります。\n",
    "# そこで何らかの方法でプログラムが終了したとしても、情報を保存し、再び起動したときに再現したいのです。\n",
    "# そのために、ファイルに保存するなどをするのですが、保存できる状態は、文字列形式など直列化されたものです。\n",
    "# このため、データを serialize して deserialize するというモチベーションが生まれます。"
   ]
  },
  {
   "cell_type": "code",
   "execution_count": null,
   "metadata": {},
   "outputs": [],
   "source": [
    "#答え\n",
    "\n",
    "import json\n",
    "\n",
    "# fix this function, so it adds the given name\n",
    "# and salary pair to salaries_json, and return it\n",
    "def add_employee(salaries_json, name, salary):#add_employee関数を定義して、salaries_json,name,salaryを引数として受け取る\n",
    "    salaries = json.loads(salaries_json)#ここで今日習った、json.loadsを使ってsalaries_jsonという文字列をPythonの辞書に変換して、辞書をsalariesという変数に代入します。\n",
    "    salaries[name] = salary #この行では、salaries辞書に新しいキーと値のペアを追加しています。name引数の値が新しいキー、salary引数の値が新しい値になります。\n",
    "                            #これにより、新しい従業員の情報がsalaries辞書に追加されます。\n",
    "\n",
    "\n",
    "    return json.dumps(salaries)\n",
    "\n",
    "# test code\n",
    "salaries = '{\"Alfred\" : 300, \"Jane\" : 400 }'\n",
    "new_salaries = add_employee(salaries, \"Me\", 800)\n",
    "decoded_salaries = json.loads(new_salaries)\n",
    "print(decoded_salaries[\"Alfred\"])\n",
    "print(decoded_salaries[\"Jane\"])\n",
    "print(decoded_salaries[\"Me\"])"
   ]
  },
  {
   "cell_type": "code",
   "execution_count": null,
   "metadata": {},
   "outputs": [],
   "source": [
    "#Claude3のコメント\n",
    "# JSON（JavaScript Object Notation）は、データを格納したり、交換したりするための書式の一つです。\n",
    "# JSONは、人間にも読みやすく、コンピュータにも処理しやすい書式になっています。\n",
    "\n",
    "# この問題では、従業員の名前と給与情報を扱っています。最初に、この情報はJSON形式の文字列で与えられています。\n",
    "# 例えば、'{\"Alfred\" : 300, \"Jane\" : 400 }'という文字列は、AlfredとJaneの給与情報を表しています。\n",
    "\n",
    "# Pythonでは、このようなJSON形式の文字列を辞書に変換することで、プログラムの中で使いやすくなります。\n",
    "# 辞書は、キー（この問題では従業員の名前）と値（この問題では給与）のペアを持つデータ構造です。\n",
    "\n",
    "# add_employee関数は、以下のことを行っています：\n",
    "\n",
    "# JSON形式の文字列を辞書に変換する（json.loads()を使用）\n",
    "# 辞書に新しい従業員の名前と給与のペアを追加する\n",
    "# 更新された辞書をJSON形式の文字列に戻す（json.dumps()を使用）\n",
    "# つまり、この関数は、与えられた従業員データに新しい従業員を追加し、その結果をJSON形式で返すということをしています。\n",
    "\n",
    "# 例えば、'{\"Alfred\" : 300, \"Jane\" : 400 }'というデータに、\n",
    "# 名前が\"Me\"で給与が800の新しい従業員を追加すると、'{\"Alfred\" : 300, \"Jane\" : 400, \"Me\" : 800 }'というJSON形式の文字列が返ってきます。\n",
    "\n",
    "# この関数を使うことで、プログラムの他の部分や、他のプログラムとデータをやり取りしやすくなります。\n",
    "# JSONは、多くのプログラミング言語で使われている共通の書式だからです。"
   ]
  }
 ],
 "metadata": {
  "language_info": {
   "name": "python"
  }
 },
 "nbformat": 4,
 "nbformat_minor": 2
}
