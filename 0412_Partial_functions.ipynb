{
 "cells": [
  {
   "cell_type": "code",
   "execution_count": null,
   "metadata": {},
   "outputs": [],
   "source": [
    "# Partial functions：パーシャル関数 \n",
    "# You can create partial functions in python by using the partial function from the functools library.\n",
    "# Partial functions allow one to derive a function with x parameters to a function with fewer parameters and fixed values set for the more limited function.\n",
    "\n",
    "# Import required:\n",
    "\n",
    "# Pythonでは、functoolsライブラリからpartial関数を使ってpartial 関数を作ることができます。\n",
    "# partial関数は、x個のパラメータを持つ関数から、より少ないパラメータを持つ関数を導出し、制限された関数に固定値を設定できます。\n",
    "# importする時にはこのようにします\n",
    "\n",
    "from functools import partial"
   ]
  },
  {
   "cell_type": "code",
   "execution_count": null,
   "metadata": {},
   "outputs": [],
   "source": [
    "#This code will return 8. \n",
    "#このコードは8を返します。\n",
    "\n",
    "from functools import partial #functoolsライブラリから、 partial関数をimportしている\n",
    "\n",
    "def multiply(x, y):  # multiply関数を定義している\n",
    "        return x * y  #x * y を返す\n",
    "\n",
    "# create a new function that multiplies by 2  dblという2をかける新しい関数を作る\n",
    "dbl = partial(multiply, 2)   #dbl = 上で定義した multyply関数が x, y なので、x*y 2でかける\n",
    "print(dbl(4))                #dblの中に４が入っているので、multiply.2で2をかけるので、8になる"
   ]
  },
  {
   "cell_type": "code",
   "execution_count": null,
   "metadata": {},
   "outputs": [],
   "source": [
    "# An important note: the default values will start replacing variables from the left. \n",
    "# The 2 will replace x. y will equal 4 when dbl(4) is called. It does not make a difference in this example, but it does in the example below.\n",
    "\n",
    "# 重要：デフォルト値は左から変数を置き換え始めます。\n",
    "# 2はxを置き換えます。dbl(4)が呼び出されるとき、yは4になります。\n",
    "# この例では違いはありませんが、以下の例では違いがあります。"
   ]
  },
  {
   "cell_type": "code",
   "execution_count": null,
   "metadata": {},
   "outputs": [],
   "source": [
    "#Odaさん概念として知っておいていいと思いますが、あんまり使わないと、私は思います。\n",
    "#ただ、関数型言語といわれるジャンルでは、こういう部分適用だとかがとても豊かで、下のような変なコードが書けたりします。\n",
    "⁠#leetcode_miyuki_215⁠"
   ]
  },
  {
   "cell_type": "code",
   "execution_count": null,
   "metadata": {},
   "outputs": [],
   "source": [
    "# Exercise\n",
    "# Edit the function provided by calling partial() and replacing the first three variables in func(). \n",
    "# Then print with the new partial function using only one input variable so that the output equals 60.\n",
    "\n",
    "#Following is the exercise, function provided:\n",
    "from functools import partial\n",
    "def func(u, v, w, x):\n",
    "    return u*4 + v*3 + w*2 + x\n",
    "#Enter your code here to create and print with your partial function"
   ]
  },
  {
   "cell_type": "code",
   "execution_count": null,
   "metadata": {},
   "outputs": [],
   "source": [
    "# 問題文を読みます。\n",
    "# partial() として呼び出された関数をeditして、func()に入っている最初の3つの変数を置き換えてください。\n",
    "# editされた new partial関数を使ってたった1つだけの変数を使って、outputが60になるようにしてください。\n",
    "\n",
    "#エクササイズは今日習ったこういう使い方をして func(u, v, w, x) を書き換えるのかなと思ったのですが、わからないので答えをみました・・・\n",
    "\n",
    "dbl = partial(multiply, 2)\n"
   ]
  },
  {
   "cell_type": "code",
   "execution_count": null,
   "metadata": {},
   "outputs": [],
   "source": [
    "#答え\n",
    "\n",
    "from functools import partial\n",
    "def func(u, v, w, x):\n",
    "    return u*4 + v*3 + w*2 + x\n",
    "\n",
    "p = partial(func,5,6,7)\n",
    "print(p(8))"
   ]
  }
 ],
 "metadata": {
  "language_info": {
   "name": "python"
  }
 },
 "nbformat": 4,
 "nbformat_minor": 2
}
