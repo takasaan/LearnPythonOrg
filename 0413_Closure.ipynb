{
 "cells": [
  {
   "cell_type": "code",
   "execution_count": null,
   "metadata": {},
   "outputs": [],
   "source": [
    "# Closures：クロージャ(関数閉包：かんすうへいほう)\n",
    "# A Closure is a function object that remembers values in enclosing scopes even if they are not present in memory. \n",
    "# Let us get to it step by step\n",
    "\n",
    "# Firstly, a Nested Function is a function defined inside another function. \n",
    "# It's very important to note that the nested functions can access the variables of the enclosing scope. \n",
    "# However, at least in python, they are only readonly. \n",
    "# However, one can use the \"nonlocal\" keyword explicitly with these variables in order to modify them.\n",
    "# For example:\n",
    "\n",
    "# Closureは、values(値)が現在のメモリ内に存在しなくても、外部のスコープにある値を覚えている関数オブジェクトです。順を追って説明していきましょう。\n",
    "\n",
    "# まず、ネストされた関数とは、別の関数内で定義された関数のことです。\n",
    "# ネストされた関数は、外部のスコープにある変数にアクセスできることに注意することが非常に重要です。\n",
    "# 少なくともPythonでは、それらは読み取り専用ですが、これらの変数を明示的に修正するために、\"nonlocal\"キーワードを使用することができます。"
   ]
  }
 ],
 "metadata": {
  "language_info": {
   "name": "python"
  }
 },
 "nbformat": 4,
 "nbformat_minor": 2
}
