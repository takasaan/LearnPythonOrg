{
 "cells": [
  {
   "cell_type": "code",
   "execution_count": null,
   "metadata": {},
   "outputs": [],
   "source": [
    "# Closures：クロージャ(関数閉包：かんすうへいほう)\n",
    "# A Closure is a function object that remembers values in enclosing scopes even if they are not present in memory. \n",
    "# Let us get to it step by step\n",
    "\n",
    "# Firstly, a Nested Function is a function defined inside another function. \n",
    "# It's very important to note that the nested functions can access the variables of the enclosing scope. \n",
    "# However, at least in python, they are only readonly. \n",
    "# However, one can use the \"nonlocal\" keyword explicitly with these variables in order to modify them.\n",
    "# For example:\n",
    "\n",
    "# Closureは、values(値)が現在のメモリ内に存在しなくても、外部のスコープにある値を覚えている関数オブジェクトです。順を追って説明していきましょう。\n",
    "\n",
    "# まず、ネストされた関数とは、別の関数内で定義された関数のことです。\n",
    "# ネストされた関数は、外部のスコープにある変数にアクセスできることに注意することが非常に重要です。\n",
    "# 少なくともPythonでは、それらは読み取り専用ですが、これらの変数を明示的に修正するために、\"nonlocal\"キーワードを使用することができます。"
   ]
  },
  {
   "cell_type": "code",
   "execution_count": null,
   "metadata": {},
   "outputs": [],
   "source": [
    "def transmit_to_space(message):#transmit_to_spacemessageを引数としてとるように定義している\n",
    "    \"This is the enclosing function\"\n",
    "    def data_transmitter(): #def transmit_to_spaceの中で、新たにdata_transmitter()関数を定義してるネストされた関数（関数内関数）\n",
    "        \"The nested function\"\n",
    "        print(message)#ネストされた関数data_transmitter内で、messageの値を出力\n",
    "\n",
    "    data_transmitter() #transmit_to_space関数内で、ネストされたdata_transmitter関数を呼び出している\n",
    "\n",
    "print(transmit_to_space(\"Test message\"))  #transmit_to_space関数を呼び出し、引数として\"Test message\"を渡しています\n",
    "\n",
    "#以下が出力される\n",
    "Test message\n",
    "None"
   ]
  },
  {
   "cell_type": "code",
   "execution_count": null,
   "metadata": {},
   "outputs": [],
   "source": [
    "# This works well as the 'data_transmitter' function can access the 'message'. \n",
    "# To demonstrate the use of the \"nonlocal\" keyword, consider this\n",
    "\n",
    "# これは、'data_transmitter'関数が'message'にアクセスできるため、うまく機能します。\n",
    "# \"nonlocal\"キーワードの使用法を示すために、次のように考えてみましょう。\n",
    "\n",
    "def print_msg(number):\n",
    "    def printer():\n",
    "        \"Here we are using the nonlocal keyword\"\n",
    "        nonlocal number\n",
    "        number=3\n",
    "        print(number)\n",
    "    printer()\n",
    "    print(number)\n",
    "\n",
    "print_msg(9)\n",
    "\n",
    "# Without the nonlocal keyword, the output would be \"3 9\", \n",
    "# however, with its usage, we get \"3 3\", that is the value of the \"number\" variable gets modified.\n",
    "# nonlocalキーワードを使用しない場合、出力は\"3 9\"になりますが、使用すると\"3 3\"になります。つまり、\"number\"変数の値が変更されるのです。"
   ]
  },
  {
   "cell_type": "code",
   "execution_count": null,
   "metadata": {},
   "outputs": [],
   "source": [
    "# And we call the function as follows:\n",
    "# ネストされた関数を呼び出すのではなく、関数オブジェクトを返すようにするとどうでしょうか\n",
    "\n",
    "def transmit_to_space(message):   #外側の関数transmit_to_space messageが引数\n",
    "  \"This is the enclosing function\" \n",
    "  def data_transmitter():         #ここからネストされた関数data_transmitter\n",
    "      \"The nested function\"\n",
    "      print(message)\n",
    "  return data_transmitter\n",
    "\n",
    "fun2 = transmit_to_space(\"Burn the Sun!\")\n",
    "fun2()\n",
    "\n",
    "#以下が出力される\n",
    "Burn the Sun!"
   ]
  },
  {
   "cell_type": "code",
   "execution_count": null,
   "metadata": {},
   "outputs": [],
   "source": [
    "#Odaさんのコメント\n",
    "# Closure はなんで closure かというと閉じているからです。\n",
    "# ラムダ式は、開いていることがあるんですが、そのうち閉じているものに似ているので、閉じているやつらってことです。\n",
    "# ちょっと誤魔化して話すと、ラムダ式において開いているというのは、変数が何を指すのか決まっていないやつがあることを指します。\n",
    "# それがすべて決まっているやつが Closure です。\n",
    "#ラムダ式に開いているのと閉じているのがあるんですが、しかし、このあたりは数学用語なので、コンピュータ言語では結構適当に使われます。"
   ]
  },
  {
   "cell_type": "code",
   "execution_count": null,
   "metadata": {},
   "outputs": [],
   "source": [
    "def transmit_to_space(message):   #外側の関数transmit_to_space messageが引数\n",
    "  \"This is the enclosing function\" \n",
    "  def data_transmitter():         #ここからネストされた関数data_transmitter\n",
    "      \"The nested function\"\n",
    "      print(message)\n",
    "  return data_transmitter\n",
    "\n",
    "fun2 = transmit_to_space(\"Burn the Sun!\")\n",
    "fun2()\n",
    "\n",
    "# Even though the execution of the \"transmit_to_space()\" was completed, the message was rather preserved. \n",
    "# This technique by which the data is attached to some code even after end of those other original functions is called as closures in python\n",
    "\n",
    "# ADVANTAGE : Closures can avoid use of global variables and provides some form of data hiding.\n",
    "# (Eg. When there are few methods in a class, use closures instead). Also, Decorators in Python make extensive use of closures.\n",
    "\n",
    "# \"transmit_to_space()\"の実行が完了したにもかかわらず、メッセージはむしろ保持されました。\n",
    "# この手法は、他の元の関数の終了後でもデータがコードに添付されるため、Pythonではクロージャと呼ばれています。\n",
    "\n",
    "# 利点：クロージャは、グローバル変数の使用を避け、ある種のデータ隠蔽を提供します。\n",
    "# (例えば、クラスにメソッドがいくつかしかない場合は、代わりにクロージャを使用します)。\n",
    "\n",
    "# また、Pythonのデコレータは、クロージャを広範囲に使用しています。"
   ]
  },
  {
   "cell_type": "code",
   "execution_count": null,
   "metadata": {},
   "outputs": [],
   "source": [
    "# Exercise\n",
    "# Make a nested loop and a python closure to make functions to get multiple multiplication functions using closures. \n",
    "# That is using closures, one could make functions to create multiply_with_5() or multiply_with_4() functions using closures.\n",
    "\n",
    "# your code goes here\n",
    "\n",
    "multiplywith5 = multiplier_of(5)\n",
    "multiplywith5(9)"
   ]
  },
  {
   "cell_type": "code",
   "execution_count": null,
   "metadata": {},
   "outputs": [],
   "source": [
    "# 問題文を読みます\n",
    "# ネストされた loopとclosure関数を作成して、複数のmultiplication(乗算関数)を取得する関数を作成してください。\n",
    "# つまり、クロージャを使用して、multiply_with_5()やmultiply_with_4()のような関数を作成することができます。"
   ]
  },
  {
   "cell_type": "code",
   "execution_count": null,
   "metadata": {},
   "outputs": [],
   "source": [
    "# ここで習ったように　nonlocal を使う？？\n",
    "# ネストされた loopとclosure関数を作成すると書いているので、\n",
    "# def multiplyer_of = multiplier_of(5)\n",
    "# この下にもう一つdef  xxxxx みたいなのを作る？\n",
    "# 全然わからないので答えを見ます"
   ]
  },
  {
   "cell_type": "code",
   "execution_count": null,
   "metadata": {},
   "outputs": [],
   "source": [
    "#答え\n",
    "\n",
    "def multiplier_of(n):#multiplier_of 関数は、乗数 n を引数として受け取ります\n",
    "    def multiplier(number): #ネストされたmultiplier 関数は、実際に乗算される数値 number を引数として受け取ります\n",
    "        return number*n     #number と n をかけて計算している\n",
    "    return multiplier       #上で定義された multiplier 関数自体をreturnして、今後multiplier_of 関数を呼び出すとnumber*n が返される\n",
    "\n",
    "\n",
    "multiplywith5 = multiplier_of(5) #multiplier_of 関数を呼び出し、引数として 5 を渡しています。\n",
    "print(multiplywith5(9))          #multiplier_of(5) が呼び出されて、関数内部では、9 * 5 の計算が行われる"
   ]
  },
  {
   "cell_type": "code",
   "execution_count": null,
   "metadata": {},
   "outputs": [],
   "source": [
    "#Odaさんのコメント\n",
    "#nonlocal 使うのは代入するときですね。\n",
    "#https://stackoverflow.com/questions/69120306/python-nonlocal-why-sometimes-need-it-and-sometimes-not"
   ]
  }
 ],
 "metadata": {
  "language_info": {
   "name": "python"
  }
 },
 "nbformat": 4,
 "nbformat_minor": 2
}
