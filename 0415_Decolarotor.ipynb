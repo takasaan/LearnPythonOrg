{
 "cells": [
  {
   "cell_type": "code",
   "execution_count": null,
   "metadata": {},
   "outputs": [],
   "source": [
    "# Decorators：デコレータ\n",
    "# Decorators allow you to make simple modifications to callable objects like functions, methods, or classes. \n",
    "# We shall deal with functions for this tutorial. The syntax\n",
    "\n",
    "# デコレータを使用すると、関数、メソッド、クラスなどの呼び出し可能なオブジェクトにシンプルな変更を加えることができます。\n",
    "# このチュートリアルでは関数を扱います。構文は以下のようになります。\n",
    "\n",
    "@decorator\n",
    "def functions(arg):\n",
    "    return \"value\"\n",
    "\n",
    "Is equivalent to:#上と下のコードはどちらも同じ意味になります\n",
    "\n",
    "def function(arg):\n",
    "    return \"value\"\n",
    "function = decorator(function) # this passes the function to the decorator, and reassigns it to the functions \n",
    "                               # これは関数をデコレータに渡し、関数に再割り当てします"
   ]
  },
  {
   "cell_type": "code",
   "execution_count": null,
   "metadata": {},
   "outputs": [],
   "source": [
    "As you may have seen, a decorator is just another function which takes a functions and returns one. For example you could do this:\n",
    "\n",
    "ご覧のように、デコレータは関数を受け取り、関数を返す別の関数に過ぎません。例えば、次のようなことができます。\n",
    "\n",
    "def repeater(old_function):\n",
    "    def new_function(*args, **kwds): # See learnpython.org/en/Multiple%20Function%20Arguments for how *args and **kwds works\n",
    "        old_function(*args, **kwds) # 古い関数を実行します\n",
    "        old_function(*args, **kwds) # 2回実行します\n",
    "    return new_function # new_functionを返さないと、値に再割り当てされません"
   ]
  },
  {
   "cell_type": "code",
   "execution_count": null,
   "metadata": {},
   "outputs": [],
   "source": [
    "# *argsとkwdsが出てきたので、\n",
    "# ⁠leetcode_takasaan⁠\n",
    "# こちらを再度見直しています・・・"
   ]
  },
  {
   "cell_type": "code",
   "execution_count": null,
   "metadata": {},
   "outputs": [],
   "source": [
    "# This would make a function repeat twice.\n",
    "# これにより、関数が2回繰り返されます。\n",
    "\n",
    ">>> @repeater\n",
    "def multiply(num1, num2):\n",
    "    print(num1 * num2)\n",
    "\n",
    ">>> multiply(2, 3)\n",
    "6\n",
    "6"
   ]
  },
  {
   "cell_type": "code",
   "execution_count": null,
   "metadata": {},
   "outputs": [],
   "source": [
    "# You can also make it change the output\n",
    "# 出力を変更することもできます。\n",
    "\n",
    "def double_out(old_function):\n",
    "    def new_function(*args, **kwds):\n",
    "        return 2 * old_function(*args, **kwds) # 戻り値を変更する\n",
    "    return new_function"
   ]
  },
  {
   "cell_type": "code",
   "execution_count": null,
   "metadata": {},
   "outputs": [],
   "source": [
    "# Odaさんのコメント\n",
    "# ⁠leetcode_ahayashi⁠\n",
    "# デコレーター、使うことはちょくちょくありますが、定義することはあまりありません。\n",
    "# こちらに珍しく作ってみた例があります。"
   ]
  },
  {
   "cell_type": "code",
   "execution_count": null,
   "metadata": {},
   "outputs": [],
   "source": [
    "# change input\n",
    "# 入力を変更する\n",
    "\n",
    "def double_Ii(old_function):\n",
    "    def new_function(arg): # もしold関数が1つの引数を持つときだけ機能する\n",
    "        return old_function(arg * 2) # 渡された引数を変更します\n",
    "    return new_function"
   ]
  },
  {
   "cell_type": "code",
   "execution_count": null,
   "metadata": {},
   "outputs": [],
   "source": [
    "# and do checking. そしてチェックを行います。\n",
    "\n",
    "def check(old_function):\n",
    "    def new_function(arg):\n",
    "        if arg < 0: raise (ValueError, \"Negative Argument\") # これはエラーを引き起こしますが間違ったことをするよりも良いでしょう\n",
    "        old_function(arg)\n",
    "    return new_function"
   ]
  },
  {
   "cell_type": "code",
   "execution_count": null,
   "metadata": {},
   "outputs": [],
   "source": [
    "# Let's say you want to multiply the output by a variable amount. \n",
    "# You could define the decorator and use it as follows:\n",
    "# 出力を可変量で掛け算したいとします。デコレータを定義して、次のように使用できます。\n",
    "\n",
    "def multiply(multiplier):\n",
    "    def multiply_generator(old_function):\n",
    "        def new_function(*args, **kwds):\n",
    "            return multiplier * old_function(*args, **kwds)\n",
    "        return new_function\n",
    "    return multiply_generator # 新しいジェネレータを返します\n",
    "\n",
    "# 使い方\n",
    "@multiply(3) #  multiplyはジェネレータではありませんが、multiply(3)はジェネレータです\n",
    "def return_num(num):\n",
    "    return num\n",
    "\n",
    "# これでreturn_numはデコレートされ、自身に再割り当てされます\n",
    "return_num(5) # 15を返すはず"
   ]
  },
  {
   "cell_type": "code",
   "execution_count": null,
   "metadata": {},
   "outputs": [],
   "source": [
    "# You can do anything you want with the old function, even completely ignore it! \n",
    "# Advanced decorators can also manipulate the doc string and argument number. \n",
    "# For some snazzy decorators, go to http://wiki.python.org/moin/PythonDecoratorLibrary.\n",
    "\n",
    "# この方法を使うと、古い関数に対して何でもできます。完全に無視することもできるのです！\n",
    "# 高度なデコレータは、docstringや引数の数も操作できます。\n",
    "# いくつかの素晴らしいデコレータについては、http://wiki.python.org/moin/PythonDecoratorLibraryをご覧ください。"
   ]
  },
  {
   "cell_type": "code",
   "execution_count": null,
   "metadata": {},
   "outputs": [],
   "source": [
    "# Odaさんコメント\n",
    "# 意味が変わるのは、ここらへんに出てくる予約語だけだと思っておいていいと思います。\n",
    "# https://docs.python.org/ja/3.12/reference/lexical_analysis.html#keywords\n"
   ]
  },
  {
   "cell_type": "code",
   "execution_count": null,
   "metadata": {},
   "outputs": [],
   "source": [
    "# まだよくわからないので、いくつか記事を読んでみています\n",
    "# https://www.sejuku.net/blog/25130#:~:text=デコレータとは、すでにある,出来るようになります。\n",
    "\n",
    "# デコレータとは、すでにある関数に処理の追加や変更を行う為の機能です。\n",
    "# デコレータを使うことによって、既存の関数の中身を直接変更することなく、それらに機能を追加したり変更したりすることが出来るようになります。\n",
    "# たとえば、ある関数があって処理によって関数の動作を変更させていときにデコレータを定義しておけば、わざわざ処理ごとに似たような関数を作る手間が省けます。"
   ]
  },
  {
   "cell_type": "code",
   "execution_count": null,
   "metadata": {},
   "outputs": [],
   "source": [
    "# Exercise\n",
    "# Make a decorator factory which returns a decorator that decorates functions with one argument. \n",
    "# The factory should take one argument, a type, and then returns a decorator that makes function should check if the input is the correct type. \n",
    "# If it is wrong, it should print(\"Bad Type\") (In reality, it should raise an error, but error raising isn't in this tutorial). \n",
    "# Look at the tutorial code and expected output to see what it is if you are confused (I know I would be.) \n",
    "# Using isinstance(object, type_of_object) or type(object) might help."
   ]
  },
  {
   "cell_type": "code",
   "execution_count": null,
   "metadata": {},
   "outputs": [],
   "source": [
    "def type_check(correct_type):\n",
    "    #put code here\n",
    "\n",
    "@type_check(int)\n",
    "def times2(num):\n",
    "    return num*2\n",
    "\n",
    "print(times2(2))\n",
    "times2('Not A Number')\n",
    "\n",
    "@type_check(str)\n",
    "def first_letter(word):\n",
    "    return word[0]\n",
    "\n",
    "print(first_letter('Hello World'))\n",
    "first_letter(['Not', 'A', 'String'])"
   ]
  },
  {
   "cell_type": "code",
   "execution_count": null,
   "metadata": {},
   "outputs": [],
   "source": [
    "# 問題文を読みます。\n",
    "# 1つの引数を持つ関数をデコレートするデコレータを返すデコレータファクトリを作成してください。\n",
    "# ファクトリは1つの引数(type)を取り、その型が正しいかどうかをチェックする関数を作成するデコレータを返します。\n",
    "# 間違っている場合は、\"Bad Type\"と表示します(実際にはエラーを発生させるべきですが、このチュートリアルではエラー発生については扱いません)。\n",
    "# チュートリアルのコードと期待される出力を見て、混乱している場合は何であるかを確認してください(私もそうなると思います)。\n",
    "# isinstance(object, type_of_object)またはtype(object)を使用すると役立つかもしれません。\n",
    "\n",
    "# デコレータファクトリーという言葉が出てきたので調べます\n",
    "# デコレーターは、クラスやメソッドを装飾してくれる機能ですが、その装飾してくれる処理内容を記述するのがデコレーターファクトリーです。\n",
    "# データファクトリーを使うと、デコレーターによって呼び出される式を返す関数をカスタマイズすることができます。"
   ]
  },
  {
   "cell_type": "code",
   "execution_count": null,
   "metadata": {},
   "outputs": [],
   "source": [
    "#まず何が起こっているか？\n",
    "def type_check(correct_type): #type_checkをcorrect_typeという引数で定義している。（これがデコレートファクトリ？）\n",
    "    #put code here\n",
    "\n",
    "@type_check(int) #@type_checkという名前のデコレータを定義している、引数はint型ですよと定義している\n",
    "def times2(num): #times2(num)times2関数の引数(nu,)がint型であることをチェックするデコレータが使われる\n",
    "    return num*2\n",
    "\n",
    "print(times2(2))\n",
    "times2('Not A Number')\n",
    "\n",
    "@type_check(str)#ここもtype_checkという名前のデコレータで、引数はstrですよと定義している\n",
    "def first_letter(word): #first_letter関数の引数(word)がstr型か、@type_check(str)にチェックされる\n",
    "    return word[0]\n",
    "\n",
    "print(first_letter('Hello World'))\n",
    "first_letter(['Not', 'A', 'String'])"
   ]
  },
  {
   "cell_type": "code",
   "execution_count": null,
   "metadata": {},
   "outputs": [],
   "source": [
    "def type_check(correct_type): #type_checkをcorrect_typeという引数で定義している。（これがデコレートファクトリ？）\n",
    "    #put code here\n",
    "\n",
    "@type_check(int) #@type_checkという名前のデコレータを定義している、引数はint型ですよと定義している\n",
    "def times2(num): #times2(num)times2関数の引数(nu,)がint型であることをチェックするデコレータが使われる\n",
    "    return num*2\n",
    "\n",
    "print(times2(2))\n",
    "times2('Not A Number')\n",
    "\n",
    "@type_check(str)#ここもtype_checkという名前のデコレータで、引数はstrですよと定義している\n",
    "def first_letter(word): #first_letter関数の引数(word)がstr型か、@type_check(str)にチェックされる\n",
    "    return word[0]\n",
    "\n",
    "print(first_letter('Hello World'))\n",
    "first_letter(['Not', 'A', 'String'])"
   ]
  },
  {
   "cell_type": "code",
   "execution_count": null,
   "metadata": {},
   "outputs": [],
   "source": [
    "def type_check(correct_type):#type_checkをcorrect_typeという引数で定義している\n",
    "    def check(old_function):#checkはデコレータで引数としてold_functionを受け取る\n",
    "        def new_function(arg):#new_functionは、old_functionをwrapする内部関数で引数argを受け取る\n",
    "            if (isinstance(arg, correct_type)):#argがcorrect_typeと同じ型かどうかをチェックして、\n",
    "                return old_function(arg)#型が正しい場合は、old_function(arg)を呼び出して結果を返す\n",
    "            else:\n",
    "                print(\"Bad Type\") #問題文にある通り、間違っている場合は、\"Bad Type\"と表示します\n",
    "        return new_function #new_functionを返します。これが、デコレートされた関数\n",
    "    return check #checkデコレータを返す\n",
    "\n",
    "@type_check(int)\n",
    "def times2(num):\n",
    "    return num*2\n",
    "\n",
    "print(times2(2))\n",
    "times2('Not A Number')\n",
    "\n",
    "@type_check(str)\n",
    "def first_letter(word):\n",
    "    return word[0]\n",
    "\n",
    "print(first_letter('Hello World'))\n",
    "first_letter(['Not', 'A', 'String'])"
   ]
  }
 ],
 "metadata": {
  "kernelspec": {
   "display_name": "Python 3",
   "language": "python",
   "name": "python3"
  },
  "language_info": {
   "codemirror_mode": {
    "name": "ipython",
    "version": 3
   },
   "file_extension": ".py",
   "mimetype": "text/x-python",
   "name": "python",
   "nbconvert_exporter": "python",
   "pygments_lexer": "ipython3",
   "version": "3.12.0"
  }
 },
 "nbformat": 4,
 "nbformat_minor": 2
}
